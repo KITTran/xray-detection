{
  "metadata": {
    "kernelspec": {
      "name": "python3",
      "display_name": "Python 3"
    },
    "language_info": {
      "name": "python",
      "version": "3.10.12",
      "mimetype": "text/x-python",
      "codemirror_mode": {
        "name": "ipython",
        "version": 3
      },
      "pygments_lexer": "ipython3",
      "nbconvert_exporter": "python",
      "file_extension": ".py"
    },
    "kaggle": {
      "accelerator": "gpu",
      "dataSources": [
        {
          "sourceId": 10400638,
          "sourceType": "datasetVersion",
          "datasetId": 6444376
        }
      ],
      "dockerImageVersionId": 30823,
      "isInternetEnabled": true,
      "language": "python",
      "sourceType": "notebook",
      "isGpuEnabled": true
    },
    "colab": {
      "provenance": [],
      "toc_visible": true,
      "machine_shape": "hm",
      "gpuType": "A100",
      "include_colab_link": true
    },
    "accelerator": "GPU"
  },
  "nbformat_minor": 0,
  "nbformat": 4,
  "cells": [
    {
      "cell_type": "markdown",
      "metadata": {
        "id": "view-in-github",
        "colab_type": "text"
      },
      "source": [
        "<a href=\"https://colab.research.google.com/github/KITTran/cracked-detection/blob/colab/models/train.ipynb\" target=\"_parent\"><img src=\"https://colab.research.google.com/assets/colab-badge.svg\" alt=\"Open In Colab\"/></a>"
      ]
    },
    {
      "cell_type": "markdown",
      "source": [
        "## Import necessary library"
      ],
      "metadata": {
        "id": "PJmghd3UgmGV"
      }
    },
    {
      "cell_type": "code",
      "source": [
        "from google.colab import drive\n",
        "drive.mount('/content/drive')"
      ],
      "metadata": {
        "id": "nYtg_bR0gpj4",
        "outputId": "9cacd3b0-f4bd-4cc9-8a3a-7f8d57f7e315",
        "colab": {
          "base_uri": "https://localhost:8080/"
        }
      },
      "execution_count": 1,
      "outputs": [
        {
          "output_type": "stream",
          "name": "stdout",
          "text": [
            "Mounted at /content/drive\n"
          ]
        }
      ]
    },
    {
      "cell_type": "code",
      "source": [
        "%cd /content/drive/MyDrive/cracked-detection"
      ],
      "metadata": {
        "id": "4B8OcOOEgt61",
        "outputId": "796e954b-197e-4623-98cd-f463ef0a9016",
        "colab": {
          "base_uri": "https://localhost:8080/"
        }
      },
      "execution_count": 2,
      "outputs": [
        {
          "output_type": "stream",
          "name": "stdout",
          "text": [
            "/content/drive/MyDrive/cracked-detection\n"
          ]
        }
      ]
    },
    {
      "cell_type": "code",
      "source": [
        "import datetime\n",
        "import os\n",
        "\n",
        "import torch\n",
        "from torch import optim, nn\n",
        "from torch.utils.data import DataLoader\n",
        "from tqdm import tqdm\n",
        "\n",
        "import matplotlib.pyplot as plt"
      ],
      "metadata": {
        "execution": {
          "iopub.status.busy": "2025-01-11T16:20:45.087192Z",
          "iopub.execute_input": "2025-01-11T16:20:45.087531Z",
          "iopub.status.idle": "2025-01-11T16:20:45.092206Z",
          "shell.execute_reply.started": "2025-01-11T16:20:45.087506Z",
          "shell.execute_reply": "2025-01-11T16:20:45.090987Z"
        },
        "trusted": true,
        "id": "rflBQvvcgmGX"
      },
      "outputs": [],
      "execution_count": 3
    },
    {
      "cell_type": "code",
      "source": [
        "now = datetime.datetime.now()\n",
        "now = now.strftime('%Y-%m-%d_%H-%M-%S')\n",
        "print(f\"Time of execution: {now}\")"
      ],
      "metadata": {
        "execution": {
          "iopub.status.busy": "2025-01-11T16:20:45.097074Z",
          "iopub.execute_input": "2025-01-11T16:20:45.097392Z",
          "iopub.status.idle": "2025-01-11T16:20:45.114201Z",
          "shell.execute_reply.started": "2025-01-11T16:20:45.097361Z",
          "shell.execute_reply": "2025-01-11T16:20:45.113079Z"
        },
        "trusted": true,
        "id": "OVDAC4pugmGZ",
        "outputId": "41f54932-9702-4da5-f368-9ab1e3196cb4",
        "colab": {
          "base_uri": "https://localhost:8080/"
        }
      },
      "outputs": [
        {
          "output_type": "stream",
          "name": "stdout",
          "text": [
            "Time of execution: 2025-01-13_03-03-55\n"
          ]
        }
      ],
      "execution_count": 4
    },
    {
      "cell_type": "code",
      "source": [
        "CURRENT_DIR = os.getcwd()\n",
        "print('CURRENT DIRECTORY: ', CURRENT_DIR)\n",
        "\n",
        "DATASET_DIR = '/kaggle/input/defectxray' if CURRENT_DIR.split('/')[1] == 'kaggle' else CURRENT_DIR\n",
        "print('DATASET DIRECTORY: ', DATASET_DIR)\n",
        "\n",
        "config = {\n",
        "        'name': \"gdxray\",\n",
        "        'data_dir': os.path.join(DATASET_DIR, \"data/gdxray\"),\n",
        "        'metadata': os.path.join(DATASET_DIR, \"metadata\"),\n",
        "        'subset': \"train\",\n",
        "        'labels': True,\n",
        "        'device': \"cuda\" if torch.cuda.is_available() else \"cpu\",\n",
        "        'image_size': (224, 224),\n",
        "        'learning_rate': 3e-4,\n",
        "        'batch_size': 2,\n",
        "        'epochs': 100,\n",
        "        'save_dir': os.path.join(CURRENT_DIR, \"logs/gdxray\")\n",
        "   }"
      ],
      "metadata": {
        "execution": {
          "iopub.status.busy": "2025-01-11T16:20:45.115578Z",
          "iopub.execute_input": "2025-01-11T16:20:45.115917Z",
          "iopub.status.idle": "2025-01-11T16:20:45.128185Z",
          "shell.execute_reply.started": "2025-01-11T16:20:45.115883Z",
          "shell.execute_reply": "2025-01-11T16:20:45.127319Z"
        },
        "trusted": true,
        "id": "M9Rmb2vDgmGb",
        "outputId": "12e40520-ea4c-4ef7-fc55-7d5d5a9315b0",
        "colab": {
          "base_uri": "https://localhost:8080/"
        }
      },
      "outputs": [
        {
          "output_type": "stream",
          "name": "stdout",
          "text": [
            "CURRENT DIRECTORY:  /content/drive/MyDrive/cracked-detection\n",
            "DATASET DIRECTORY:  /content/drive/MyDrive/cracked-detection\n"
          ]
        }
      ],
      "execution_count": 5
    },
    {
      "cell_type": "markdown",
      "source": [
        "## Gather all function in other file"
      ],
      "metadata": {
        "id": "daLJrYlggmGc"
      }
    },
    {
      "cell_type": "markdown",
      "source": [
        "## Model structure"
      ],
      "metadata": {
        "id": "byNoo21AgmGc"
      }
    },
    {
      "cell_type": "code",
      "source": [
        "import torch\n",
        "import torch.nn.functional as F\n",
        "\n",
        "class SAM(nn.Module):\n",
        "    def __init__(self, bias=False):\n",
        "        super(SAM, self).__init__()\n",
        "        self.bias = bias\n",
        "        self.conv = nn.Conv2d(in_channels=2, out_channels=1, kernel_size=7, stride=1, padding=3, dilation=1, bias=self.bias)\n",
        "\n",
        "    def forward(self, x):\n",
        "        max = torch.max(x,1)[0].unsqueeze(1)\n",
        "        avg = torch.mean(x,1).unsqueeze(1)\n",
        "        concat = torch.cat((max,avg), dim=1)\n",
        "        output = self.conv(concat)\n",
        "        output = F.sigmoid(output) * x\n",
        "        return output\n",
        "\n",
        "class CAM(nn.Module):\n",
        "    def __init__(self, channels, r):\n",
        "        super(CAM, self).__init__()\n",
        "        self.channels = channels\n",
        "        self.r = r\n",
        "        self.linear = nn.Sequential(\n",
        "            nn.Linear(in_features=self.channels, out_features=self.channels//self.r, bias=True),\n",
        "            nn.ReLU(inplace=True),\n",
        "            nn.Linear(in_features=self.channels//self.r, out_features=self.channels, bias=True))\n",
        "\n",
        "    def forward(self, x):\n",
        "        max = F.adaptive_max_pool2d(x, output_size=1)\n",
        "        avg = F.adaptive_avg_pool2d(x, output_size=1)\n",
        "        b, c, _, _ = x.size()\n",
        "        linear_max = self.linear(max.view(b,c)).view(b, c, 1, 1)\n",
        "        linear_avg = self.linear(avg.view(b,c)).view(b, c, 1, 1)\n",
        "        output = linear_max + linear_avg\n",
        "        output = F.sigmoid(output) * x\n",
        "        return output\n",
        "\n",
        "class CBAM(nn.Module):\n",
        "    def __init__(self, channels, r):\n",
        "        super(CBAM, self).__init__()\n",
        "        self.channels = channels\n",
        "        self.r = r\n",
        "        self.sam = SAM(bias=False)\n",
        "        self.cam = CAM(channels=self.channels, r=self.r)\n",
        "\n",
        "    def forward(self, x):\n",
        "        output = self.cam(x)\n",
        "        output = self.sam(output)\n",
        "        return output\n",
        "\n",
        "class ResHDCCBAM(nn.Module):\n",
        "    def __init__(self, in_channels, output_channels, r=16):\n",
        "        super(ResHDCCBAM, self).__init__()\n",
        "\n",
        "        self.branch1 = nn.Conv2d(in_channels, output_channels, kernel_size=3, padding=1, dilation=1)\n",
        "\n",
        "        self.branch2 = nn.Sequential(\n",
        "            nn.Conv2d(in_channels, in_channels, kernel_size=3, padding=1, dilation=1),\n",
        "            nn.Conv2d(in_channels, output_channels, kernel_size=3, padding=2, dilation=2)\n",
        "        )\n",
        "\n",
        "        self.branch3 = nn.Sequential(\n",
        "            nn.Conv2d(in_channels, in_channels, kernel_size=3, padding=1, dilation=1),\n",
        "            nn.Conv2d(in_channels, in_channels, kernel_size=3, padding=2, dilation=2),\n",
        "            nn.Conv2d(in_channels, output_channels, kernel_size=3, padding=4, dilation=4)\n",
        "        )\n",
        "\n",
        "        self.cbam = CBAM(in_channels, r)\n",
        "        self.conv1 = nn.Conv2d(in_channels, output_channels, kernel_size=1)\n",
        "        self.conv2 = nn.Conv2d(in_channels, output_channels, kernel_size=1)\n",
        "\n",
        "    def forward(self, x):\n",
        "        residual = x\n",
        "        out1 = self.branch1(x)\n",
        "        out2 = self.branch2(x)\n",
        "        out3 = self.branch3(x)\n",
        "        cbam = self.cbam(x)\n",
        "        out = out1 + out2 + out3 + self.conv1(cbam) + self.conv2(residual)\n",
        "        return out\n",
        "\n",
        "class DownSampling(nn.Module):\n",
        "    def __init__(self, in_channels, out_channels):\n",
        "        super(DownSampling, self).__init__()\n",
        "        self.pool = nn.MaxPool2d(kernel_size=2, stride=2)\n",
        "        self.conv = nn.Conv2d(in_channels, out_channels, kernel_size=1)\n",
        "\n",
        "    def forward(self, x):\n",
        "        x = self.pool(x)\n",
        "        x = self.conv(x)\n",
        "        return x\n",
        "\n",
        "def SimAM(X, lamb):\n",
        "    # spatial size\n",
        "    n = X.shape[2] * X.shape[3]- 1\n",
        "    # square of (t- u)\n",
        "    d = (X- X.mean(dim=[2,3])).pow(2)\n",
        "    # d.sum() / n is channel variance\n",
        "    v = d.sum(dim=[2,3]) / n\n",
        "    # E_inv groups all importance of X\n",
        "    E_inv = d / (4 * (v + lamb)) + 0.5\n",
        "    # return attended features\n",
        "    return X * nn.Sigmoid(E_inv)\n",
        "\n",
        "class ResSimAM(nn.Module):\n",
        "    def __init__(self, in_channels, lamb):\n",
        "        super(ResSimAM, self).__init__()\n",
        "\n",
        "        self.lamb = lamb\n",
        "        self.conv1 = ConvBNReLU(in_channels, in_channels, 3, 1, 1, 1)\n",
        "        self.conv2 = ConvBNReLU(in_channels, in_channels, 3, 1, 1, 1, use_relu=False)\n",
        "\n",
        "        self.simam = SimAM\n",
        "\n",
        "    def forward(self, X):\n",
        "        residual = X\n",
        "        X = self.conv1(X)\n",
        "        X = self.conv2(X)\n",
        "        X = self.simam(X, self.lamb)\n",
        "        return nn.ReLU(X + residual)\n",
        "\n",
        "class DCIM(nn.Module):\n",
        "    def __init__(self, output_list, num_parallel, r=16):\n",
        "        super(DCIM, self).__init__()\n",
        "        self.levels = len(output_list)\n",
        "        self.num_parallel = num_parallel\n",
        "\n",
        "        # Initialize convolutional, upsampling, and downsampling layers\n",
        "        self.H = nn.ModuleDict()\n",
        "        self.D = nn.ModuleDict()\n",
        "        self.U = nn.Upsample(scale_factor=2, mode='bilinear', align_corners=True)\n",
        "\n",
        "        for k in range(self.num_parallel):\n",
        "            for level in range(self.levels):\n",
        "                idx = f\"{level}_{k}\"\n",
        "                input_channels = output_list[level] if level != 0 else 0 # Downsampled input channels\n",
        "                input_channels += 0 if k == 0 or level == self.levels - 1 else output_list[level] + output_list[level+1] # Skip connection and Upsampling\n",
        "\n",
        "                input_channels = output_list[level] if input_channels == 0 else input_channels\n",
        "\n",
        "                # print(f\"Level {l}, Branch {k}, Input channels: {input_channels}\")\n",
        "\n",
        "                self.H[idx] = ResHDCCBAM(input_channels, output_list[level], r)\n",
        "\n",
        "                if level < self.levels - 1:\n",
        "                    # self.D[idx] = DownSampling(input_channels, output_list[l+1])\n",
        "                    self.D[idx] = DownSampling(output_list[level], output_list[level+1])\n",
        "                # if k < self.num_parallel - 1:\n",
        "                #     self.U[f\"{l+1}_{k}\"] = nn.Upsample(scale_factor=2, mode='bilinear', align_corners=True)\n",
        "\n",
        "    def forward(self, x):\n",
        "        # Initilize tensor storage\n",
        "        X = {}\n",
        "\n",
        "        for k in range(self.num_parallel):\n",
        "            for lvl in range(self.levels):\n",
        "                idx = f\"{lvl}_{k}\"\n",
        "\n",
        "                if lvl == 0:\n",
        "                    if k == 0:\n",
        "                        X[idx] = self.H[idx](x)\n",
        "                    else:\n",
        "                        U = self.U(X[f\"{lvl+1}_{k-1}\"])\n",
        "                        X[idx] = self.H[idx](torch.cat([X[f\"{lvl}_{k-1}\"], U], dim = 1))\n",
        "\n",
        "                elif lvl > 0 and lvl < self.levels - 1:\n",
        "                    if k == 0:\n",
        "                        D = self.D[f\"{lvl-1}_{k}\"](X[f\"{lvl-1}_{k}\"])\n",
        "                        X[idx] = self.H[idx](D)\n",
        "                    else:\n",
        "                        D = self.D[f\"{lvl-1}_{k}\"](X[f\"{lvl-1}_{k}\"])\n",
        "                        U = self.U(X[f\"{lvl+1}_{k-1}\"])\n",
        "                        X[idx] = self.H[idx](torch.cat([X[f\"{lvl}_{k-1}\"], D, U], dim = 1))\n",
        "                elif lvl == self.levels - 1:\n",
        "                    D = self.D[f\"{lvl-1}_{k}\"](X[f\"{lvl-1}_{k}\"])\n",
        "                    X[idx] = self.H[idx](D)\n",
        "\n",
        "        return [X[f\"{lvl}_{self.num_parallel-1}\"] for lvl in range(self.levels)]\n",
        "\n",
        "class AFF(nn.Module):\n",
        "    \"\"\"\n",
        "    Adaptive Feature Fusion (AFF) module for semantic segmentation\n",
        "    \"\"\"\n",
        "    def __init__(self, in_channels, out_channels):\n",
        "        super(AFF, self).__init__()\n",
        "        self.conv1 = nn.Conv2d(in_channels, out_channels, kernel_size=1, stride=1)\n",
        "        self.relu = nn.ReLU(inplace=True)\n",
        "        self.conv2 = nn.Conv2d(out_channels, out_channels, kernel_size=3, stride=1, padding=1)\n",
        "\n",
        "    def forward(self, x1, x2):\n",
        "        x2 = nn.Upsample(size=x1.size()[2:], mode='bilinear', align_corners=True)(x2)\n",
        "        x = torch.cat([x1, x2], dim=1)\n",
        "        x = self.conv1(x)\n",
        "        x = self.relu(x)\n",
        "        x = self.conv2(x)\n",
        "        return x\n",
        "\n",
        "class CARAFE(nn.Module):\n",
        "    # CARAFE: Content-Aware ReAssembly of FEatures \"https://arxiv.org/pdf/1905.02188.pdf\"\n",
        "    \"\"\"\n",
        "    Args:\n",
        "        input_channels (int): input feature channels\n",
        "        scale_factor (int): upsample ratio\n",
        "        up_kernel (int): kernel size of CARAFE op\n",
        "        up_group (int): group size of CARAFE op\n",
        "        encoder_kernel (int): kernel size of content encoder\n",
        "        encoder_dilation (int): dilation of content encoder\n",
        "\n",
        "    Returns:\n",
        "        upsampled feature map\n",
        "    \"\"\"\n",
        "    def __init__(self, input_channels, scale_factor=2, kernel_up=5, kernel_encoder=3):\n",
        "        super(CARAFE, self).__init__()\n",
        "        self.scale_factor = scale_factor\n",
        "        self.kernel_up = kernel_up\n",
        "        self.kernel_encoder = kernel_encoder\n",
        "        self.down = nn.Conv2d(input_channels, input_channels // 4, 1)\n",
        "        self.encoder = nn.Conv2d(input_channels // 4, self.scale_factor ** 2 * self.kernel_up ** 2,self.kernel_encoder, 1, self.kernel_encoder // 2)\n",
        "        self.out = nn.Conv2d(input_channels, input_channels, 1)\n",
        "\n",
        "    def forward(self, x):\n",
        "        N, C, H, W = x.size()\n",
        "        # N,C,H,W -> N,C,delta*H,delta*W\n",
        "        # kernel prediction module\n",
        "        kernel_tensor = self.down(x)  # (N, Cm, H, W)\n",
        "        kernel_tensor = self.encoder(kernel_tensor)  # (N, S^2 * Kup^2, H, W)\n",
        "        kernel_tensor = F.pixel_shuffle(kernel_tensor, self.scale_factor)  # (N, S^2 * Kup^2, H, W)->(N, Kup^2, S*H, S*W)\n",
        "        kernel_tensor = F.softmax(kernel_tensor, dim=1)  # (N, Kup^2, S*H, S*W)\n",
        "        kernel_tensor = kernel_tensor.unfold(2, self.scale_factor, step=self.scale_factor) # (N, Kup^2, H, W*S, S)\n",
        "        kernel_tensor = kernel_tensor.unfold(3, self.scale_factor, step=self.scale_factor) # (N, Kup^2, H, W, S, S)\n",
        "        kernel_tensor = kernel_tensor.reshape(N, self.kernel_up ** 2, H, W, self.scale_factor ** 2) # (N, Kup^2, H, W, S^2)\n",
        "        kernel_tensor = kernel_tensor.permute(0, 2, 3, 1, 4)  # (N, H, W, Kup^2, S^2)\n",
        "\n",
        "        # content-aware reassembly module\n",
        "        # tensor.unfold: dim, size, step\n",
        "        x = F.pad(x, pad=(self.kernel_up // 2, self.kernel_up // 2,\n",
        "                                          self.kernel_up // 2, self.kernel_up // 2),\n",
        "                          mode='constant', value=0) # (N, C, H+Kup//2+Kup//2, W+Kup//2+Kup//2)\n",
        "        x = x.unfold(2, self.kernel_up, step=1) # (N, C, H, W+Kup//2+Kup//2, Kup)\n",
        "        x = x.unfold(3, self.kernel_up, step=1) # (N, C, H, W, Kup, Kup)\n",
        "        x = x.reshape(N, C, H, W, -1) # (N, C, H, W, Kup^2)\n",
        "        x = x.permute(0, 2, 3, 1, 4)  # (N, H, W, C, Kup^2)\n",
        "\n",
        "        out_tensor = torch.matmul(x, kernel_tensor)  # (N, H, W, C, S^2)\n",
        "        out_tensor = out_tensor.reshape(N, H, W, -1)\n",
        "        out_tensor = out_tensor.permute(0, 3, 1, 2)\n",
        "        out_tensor = F.pixel_shuffle(out_tensor, self.scale_factor)\n",
        "\n",
        "        out_tensor = self.out(out_tensor)\n",
        "        #print(\"up shape:\",out_tensor.shape)\n",
        "        return out_tensor\n",
        "\n",
        "class ConvBNReLU(nn.Module):\n",
        "    '''Module for the Conv-BN-ReLU tuple.'''\n",
        "    def __init__(self, c_in, c_out, kernel_size, stride, padding, dilation,\n",
        "                 use_relu=True):\n",
        "        super(ConvBNReLU, self).__init__()\n",
        "        self.conv = nn.Conv2d(\n",
        "                c_in, c_out, kernel_size=kernel_size, stride=stride,\n",
        "                padding=padding, dilation=dilation, bias=False)\n",
        "        self.bn = nn.BatchNorm2d(c_out)\n",
        "        if use_relu:\n",
        "            self.relu = nn.ReLU(inplace=True)\n",
        "        else:\n",
        "            self.relu = None\n",
        "\n",
        "    def forward(self, x):\n",
        "        x = self.conv(x)\n",
        "        x = self.bn(x)\n",
        "        if self.relu is not None:\n",
        "            x = self.relu(x)\n",
        "        return x\n",
        "\n",
        "class AdaptiveThresholdPrediction(nn.Module):\n",
        "    def __init__(self, in_channels=64, pool_size=(1, 1), num_classes=2):\n",
        "        \"\"\"\n",
        "        Adaptive Threshold Prediction Module.\n",
        "        Args:\n",
        "            in_channels (int): Number of input channels.\n",
        "            intermediate_channels (int): Number of intermediate channels (e.g., 64).\n",
        "            pool_size (tuple): Adaptive pooling output size (default 1x1).\n",
        "        returns:\n",
        "            torch.Tensor: Thresholded output tensor of the same shape as the input tensor.\n",
        "        \"\"\"\n",
        "        super(AdaptiveThresholdPrediction, self).__init__()\n",
        "\n",
        "        # First path: Conv1x1 -> STAF\n",
        "        self.conv1x1_main = nn.Conv2d(in_channels, num_classes, kernel_size=1)\n",
        "\n",
        "        # Second path: Adaptive Max Pool -> Conv1x1 -> Threshold prediction\n",
        "        self.adaptive_pool = nn.AdaptiveMaxPool2d(output_size=pool_size)\n",
        "        self.conv1x1_thresh = nn.Conv2d(in_channels, num_classes, kernel_size=1)\n",
        "\n",
        "        # Learnable scalar for threshold prediction\n",
        "        self.sigma = nn.Parameter(torch.tensor(1.0))  # Scale factor (learnable)\n",
        "\n",
        "    def forward(self, x):\n",
        "        \"\"\"\n",
        "        Forward pass of the Adaptive Threshold Prediction Module.\n",
        "        Args:\n",
        "            x (torch.Tensor): Input tensor of shape (B, C, H, W)\n",
        "        Returns:\n",
        "            torch.Tensor: Thresholded output tensor.\n",
        "        \"\"\"\n",
        "        # First path\n",
        "        main_output = self.conv1x1_main(x)  # Output: (B, 64, H, W)\n",
        "\n",
        "        # Second path for threshold prediction\n",
        "        pooled_output = self.adaptive_pool(x)  # Output: (B, C, 1, 1)\n",
        "        threshold = self.conv1x1_thresh(pooled_output)  # Output: (B, 64, 1, 1)\n",
        "        threshold = torch.sigmoid(threshold) * self.sigma  # Sigmoid to predict Thresh\n",
        "\n",
        "        # Broadcast threshold to match main_output shape\n",
        "        threshold = F.interpolate(threshold, size=main_output.shape[2:], mode='bilinear', align_corners=False)\n",
        "\n",
        "        # Apply threshold (modulation or scaling)\n",
        "        output = main_output * threshold\n",
        "\n",
        "        # assert output.shape[1] == 2, f\"Output shape: {output.shape}\"\n",
        "\n",
        "        return output\n",
        "\n",
        "\n",
        "class WResHDC_FF(nn.Module):\n",
        "    def __init__(self, num_classes, input_channels, output_list, num_parallel, channel_ratio=16, upsample_cfg=dict(type='carafe', scale_factor = 2, kernel_up = 5, kernel_encoder = 3, compress_channels = 64)):\n",
        "        \"\"\"\n",
        "        The overall architecture of the WResHDC-FF models for semantic segmentation.\n",
        "        It contains the following components:\n",
        "            1. ResHDCCBAM: Residual Hierarchical Dense Convolutional Channel Attention Block\n",
        "            2. AFF: Adaptive Feature Fusion\n",
        "            3. CARAFE: Content-Aware ReAssembly of FEatures\n",
        "\n",
        "        Args:\n",
        "            num_classes (int): Number of classes for the segmentation task\n",
        "            output_list (list): List of output channels for each level\n",
        "            num_parallel (int): Number of parallel branches in each level\n",
        "            r (int): Reduction ratio for the channel attention module\n",
        "            upsample_cfg (dict): Configuration for the upsampling module\n",
        "        \"\"\"\n",
        "        super(WResHDC_FF, self).__init__()\n",
        "\n",
        "        self.levels = len(output_list) # 5\n",
        "        self.num_parallel = num_parallel # 1\n",
        "        self.channel_ratio = channel_ratio\n",
        "\n",
        "        # First convolutional layer as compress layer\n",
        "        # self.conv1 = ConvBNReLU(input_channels, output_list[0], 3, 1, 1, 1)\n",
        "        self.conv1 = nn.Conv2d(input_channels, output_list[0], kernel_size=1, stride=1)\n",
        "\n",
        "        # Initialize DCIM module\n",
        "        self.dcim = DCIM(output_list, num_parallel)\n",
        "\n",
        "        self.aff = nn.ModuleList()\n",
        "        # Initialize AFF module\n",
        "        for level in range(self.levels - 2):\n",
        "            self.aff.append(AFF(output_list[level] + output_list[level+1], output_list[level]))\n",
        "\n",
        "        # Initialize CARAFE module\n",
        "        self.upsample = nn.ModuleList()\n",
        "        self.convbnrelu1 = nn.ModuleList()\n",
        "        self.convbnrelu2 = nn.ModuleList()\n",
        "        for level in range(self.levels - 1, 0, -1):\n",
        "            if upsample_cfg['type'] == 'carafe':\n",
        "                self.upsample.append(CARAFE(output_list[level],\n",
        "                                            upsample_cfg['scale_factor'],\n",
        "                                            upsample_cfg['kernel_up'],\n",
        "                                            upsample_cfg['kernel_encoder']))\n",
        "            else:\n",
        "                self.upsample.append(nn.Upsample(scale_factor=2, mode='bilinear', align_corners=True))\n",
        "\n",
        "            self.convbnrelu1.append(ConvBNReLU(output_list[level] + output_list[level-1], output_list[level], 3, 1, 1, 1))\n",
        "            self.convbnrelu2.append(ConvBNReLU(output_list[level], output_list[level-1], 3, 1, 1, 1))\n",
        "\n",
        "        # Adaptive Threshold Prediction Module\n",
        "        self.atp = AdaptiveThresholdPrediction(in_channels=output_list[0], pool_size=(1, 1), num_classes=num_classes)\n",
        "\n",
        "    def forward(self, x):\n",
        "\n",
        "        x = self.conv1(x)  # 3*320*320 -> 64*320*320\n",
        "        # DCIM module\n",
        "        X = self.dcim(x) # levels of feature maps\n",
        "        F = X.copy()\n",
        "        # delete two last levels\n",
        "        del F[self.levels-1]\n",
        "\n",
        "        # Adaptive Feature Fusion module\n",
        "        for level in range(self.levels - 2): # 0, 1, 2\n",
        "            F[level] = self.aff[level](X[level], X[level+1])\n",
        "\n",
        "        # Upsampling module\n",
        "        # out = self.upsample[0](X[self.levels - 1]) # W*H*1024 -> 2W*2H*1024\n",
        "        # out = torch.cat([out, X[self.levels - 2]], dim=1)\n",
        "        # out = self.convbnrelu1[0](out)\n",
        "        # out = self.convbnrelu2[0](out) # 2W*2H*1024 -> 2W*2H*512\n",
        "\n",
        "        # out = self.upsample[1](out) # 2W*2H*512 -> 4W*4H*512\n",
        "        # out = torch.cat([out, F[self.levels - 3]], dim=1)\n",
        "        # out = self.convbnrelu1[1](out)\n",
        "        # out = self.convbnrelu2[1](out) # 4W*4H*512 -> 4W*4H*256\n",
        "\n",
        "        # out = self.upsample[2](out)\n",
        "        # out = torch.cat([out, F[self.levels - 4]], dim=1)\n",
        "        # out = self.convbnrelu1[2](out)\n",
        "        # out = self.convbnrelu2[2](out)\n",
        "\n",
        "        # out = self.upsample[3](out)\n",
        "        # out = torch.cat([out, F[self.levels - 5]], dim=1)\n",
        "        # out = self.convbnrelu1[3](out)\n",
        "        # out = self.convbnrelu2[3](out)\n",
        "\n",
        "        out = X[self.levels - 1]\n",
        "        for level in range(self.levels - 1, 0, -1):\n",
        "            out = self.upsample[self.levels - 1 - level](out)\n",
        "            out = torch.cat([out, F[level-1]], dim=1)\n",
        "            out = self.convbnrelu1[self.levels - 1 - level](out)\n",
        "            out = self.convbnrelu2[self.levels - 1 - level](out)\n",
        "\n",
        "        return self.atp(out)\n"
      ],
      "metadata": {
        "execution": {
          "iopub.status.busy": "2025-01-11T16:20:45.253463Z",
          "iopub.execute_input": "2025-01-11T16:20:45.253738Z",
          "iopub.status.idle": "2025-01-11T16:20:45.295435Z",
          "shell.execute_reply.started": "2025-01-11T16:20:45.253716Z",
          "shell.execute_reply": "2025-01-11T16:20:45.294503Z"
        },
        "trusted": true,
        "id": "jkeCcDRUgmGc"
      },
      "outputs": [],
      "execution_count": 6
    },
    {
      "cell_type": "markdown",
      "source": [
        "## Utils function"
      ],
      "metadata": {
        "id": "Clcn-DRGgmGg"
      }
    },
    {
      "cell_type": "code",
      "source": [
        "import copy\n",
        "import os\n",
        "import json\n",
        "import math\n",
        "import random\n",
        "\n",
        "import numpy as np\n",
        "\n",
        "from PIL import Image\n",
        "from torch.utils.data import Dataset\n",
        "from torchvision.transforms import v2\n",
        "from torchvision.utils import draw_segmentation_masks\n",
        "\n",
        "BACKGROUND_CLASS = 0\n",
        "WELDING_DEFECT = 1\n",
        "OBJECT_CLASSES = [BACKGROUND_CLASS, WELDING_DEFECT]\n",
        "\n",
        "\n",
        "# Base Configuration Class\n",
        "# Don't use this class directly. Instead, sub-class it and override\n",
        "# the configurations you need to change.\n",
        "\n",
        "\n",
        "class Config(object):\n",
        "    \"\"\"Base configuration class. For custom configurations, create a\n",
        "    sub-class that inherits from this one and override properties\n",
        "    that need to be changed.\n",
        "    \"\"\"\n",
        "\n",
        "    # Name the configurations. For example, 'COCO', 'Experiment 3', ...etc.\n",
        "    # Useful if your code needs to do things differently depending on which\n",
        "    # experiment is running.\n",
        "    NAME = None  # Override in sub-classes\n",
        "\n",
        "    # NUMBER OF GPUs to use. For CPU training, use 1\n",
        "    GPU_COUNT = 1\n",
        "\n",
        "    # Number of images to train with on each GPU. A 12GB GPU can typically\n",
        "    # handle 2 images of 1024x1024px.\n",
        "    # Adjust based on your GPU memory and image sizes. Use the highest\n",
        "    # number that your GPU can handle for best performance.\n",
        "    IMAGES_PER_GPU = 2\n",
        "\n",
        "    # Number of training steps per epoch\n",
        "    # This doesn't need to match the size of the training set. Tensorboard\n",
        "    # updates are saved at the end of each epoch, so setting this to a\n",
        "    # smaller number means getting more frequent TensorBoard updates.\n",
        "    # Validation stats are also calculated at each epoch end and they\n",
        "    # might take a while, so don't set this too small to avoid spending\n",
        "    # a lot of time on validation stats.\n",
        "    STEPS_PER_EPOCH = 1000\n",
        "\n",
        "    # Number of validation steps to run at the end of every training epoch.\n",
        "    # A bigger number improves accuracy of validation stats, but slows\n",
        "    # down the training.\n",
        "    VALIDATION_STEPS = 50\n",
        "\n",
        "    # Number of classification classes (including background)\n",
        "    NUM_CLASSES = 2  # Override in sub-classes\n",
        "\n",
        "    # If enabled, resizes instance masks to a smaller size to reduce\n",
        "    # memory load. Recommended when using high-resolution images.\n",
        "    USE_MINI_MASK = True\n",
        "    MINI_MASK_SHAPE = (128, 128)  # (height, width) of the mini-mask\n",
        "\n",
        "    # Input image resing\n",
        "    # Images are resized such that the smallest side is >= IMAGE_MIN_DIM and\n",
        "    # the longest side is <= IMAGE_MAX_DIM. In case both conditions can't\n",
        "    # be satisfied together the IMAGE_MAX_DIM is enforced.\n",
        "    IMAGE_MIN_DIM = 800\n",
        "    IMAGE_MAX_DIM = 512\n",
        "    # If True, pad images with zeros such that they're (max_dim by max_dim)\n",
        "    IMAGE_PADDING = True  # currently, the False option is not supported\n",
        "\n",
        "    # Image mean (RGB)\n",
        "    MEAN_PIXEL = np.array([123.7, 116.8, 103.9])\n",
        "\n",
        "    # Learning rate and momentum\n",
        "    # The Mask RCNN paper uses lr=0.02, but on TensorFlow it causes\n",
        "    # weights to explode. Likely due to differences in optimzer\n",
        "    # implementation.\n",
        "    LEARNING_RATE = 0.001\n",
        "    LEARNING_MOMENTUM = 0.9\n",
        "\n",
        "    # Weight decay regularization\n",
        "    WEIGHT_DECAY = 0.0001\n",
        "\n",
        "    def __init__(self):\n",
        "        \"\"\"Set values of computed attributes.\"\"\"\n",
        "        # Effective batch size\n",
        "        self.BATCH_SIZE = self.IMAGES_PER_GPU * self.GPU_COUNT\n",
        "\n",
        "        # Input image size\n",
        "        self.IMAGE_SHAPE = np.array([self.IMAGE_MAX_DIM, self.IMAGE_MAX_DIM, 3])\n",
        "\n",
        "        # Compute backbone size from input image size\n",
        "        self.BACKBONE_SHAPES = np.array(\n",
        "            [\n",
        "                [\n",
        "                    int(math.ceil(self.IMAGE_SHAPE[0] / stride)),\n",
        "                    int(math.ceil(self.IMAGE_SHAPE[1] / stride)),\n",
        "                ]\n",
        "                for stride in self.BACKBONE_STRIDES\n",
        "            ]\n",
        "        )\n",
        "\n",
        "    def display(self):\n",
        "        \"\"\"Display Configuration values.\"\"\"\n",
        "        print(\"\\nConfigurations:\")\n",
        "        for a in dir(self):\n",
        "            if not a.startswith(\"__\") and not callable(getattr(self, a)):\n",
        "                print(\"{:30} {}\".format(a, getattr(self, a)))\n",
        "        print(\"\\n\")\n",
        "\n",
        "class GDXrayDataset(Dataset):\n",
        "    \"\"\"\n",
        "    Dataset of Xray Images\n",
        "\n",
        "    Images are referred to using their image_id (relative path to image).\n",
        "    An example image_id is: \"Weldings/W0001/W0001_0004.png\"\n",
        "    \"\"\"\n",
        "\n",
        "    def __init__(self, config: dict, labels: bool, transform):\n",
        "        super().__init__()\n",
        "        \"\"\"\n",
        "        Args:\n",
        "            config (dict): Contain nessesary information for the dataset\n",
        "            config = {\n",
        "                'name': str, # Name of the dataset\n",
        "                'data_dir': str, # Path to the data directory\n",
        "                'subset': str, # 'train' or 'val'\n",
        "                'metadata': str, # Path to the metadata file\n",
        "                }\n",
        "            labels (bool): Whether to load labels\n",
        "            transform (callable, optional): Transform to be applied to the images.\n",
        "        \"\"\"\n",
        "\n",
        "        self.config = config\n",
        "        self.labels = labels\n",
        "        self.transform = transform\n",
        "\n",
        "        # Initialize the dataset infos\n",
        "        self.image_info = []\n",
        "        self.image_indices = {}\n",
        "        self.class_info = [{\"source\": \"\", \"id\": 0, \"name\": \"BG\"}]\n",
        "\n",
        "        # Add classes\n",
        "        self.add_class(config[\"name\"], 1, \"Defect\")\n",
        "\n",
        "        # Load the dataset\n",
        "        metadata_img = \"{}/{}_{}.txt\".format(config['metadata'], config[\"name\"], \"images\")\n",
        "        metadata_label = \"{}/{}_{}.txt\".format(config['metadata'], config[\"name\"], \"labels\") if labels else None\n",
        "\n",
        "        # Load image ids from key 'image' in dictionary in metadata file\n",
        "        image_ids = []\n",
        "        image_ids.extend(self.load_metadata(metadata_img, \"image\"))\n",
        "        if self.labels:\n",
        "            label_ids = []\n",
        "            label_ids.extend(self.load_metadata(metadata_label, \"label\"))\n",
        "\n",
        "        for i, image_id in enumerate(image_ids):\n",
        "            img_path = os.path.join(config[\"data_dir\"], image_id)\n",
        "            label_path = \"\"\n",
        "            if self.labels:\n",
        "                label_path = os.path.join(config[\"data_dir\"], label_ids[i])\n",
        "\n",
        "                if not os.path.exists(label_path):\n",
        "                    print(\"Skipping \", image_id, \" Reason: No mask\")\n",
        "\n",
        "                    del self.image_ids[i]\n",
        "                    del self.label_ids[i]\n",
        "\n",
        "                    continue\n",
        "\n",
        "            print(\"Adding image: \", image_id)\n",
        "\n",
        "            self.add_image(config[\"name\"], config['subset'], image_id, img_path, label=label_path)\n",
        "\n",
        "    def __len__(self):\n",
        "        return len(self.image_indices)\n",
        "\n",
        "    def __getitem__(self, idx):\n",
        "        \"\"\"\n",
        "        Args:\n",
        "            idx (int): Index of the data to fetch.\n",
        "\n",
        "        Returns:\n",
        "            tuple: (image, label) where both are transformed.\n",
        "        \"\"\"\n",
        "\n",
        "        image_path = self.image_info[idx][\"path\"]\n",
        "        # image = cv2.imread(image_path, cv2.IMREAD_COLOR)\n",
        "        # self.update_info(idx, height_org=image.shape[0], width_org=image.shape[1])\n",
        "        image = Image.open(image_path).convert('RGB')\n",
        "        width, height = image.size\n",
        "        self.update_info(idx, height_org=width, width_org=height)\n",
        "\n",
        "        if self.labels:\n",
        "            label_path = self.image_info[idx][\"label\"]\n",
        "            # label = cv2.imread(label_path, cv2.IMREAD_GRAYSCALE)\n",
        "            label = Image.open(label_path).convert('L') # read as grayscale\n",
        "\n",
        "        if self.transform:\n",
        "            image, label = self.transform(image, label) if self.labels else self.transform(image)\n",
        "\n",
        "        # change every element > 0 to 1\n",
        "        if self.labels:\n",
        "          label = (label > 0).float()\n",
        "\n",
        "        if self.labels:\n",
        "            return image, v2.ToTensor()(label).squeeze(0)\n",
        "\n",
        "    def add_class(self, source, class_id, class_name):\n",
        "        assert \".\" not in source, \"Source name cannot contain a dot\"\n",
        "        # Does the class exist already?\n",
        "        for info in self.class_info:\n",
        "            if info[\"source\"] == source and info[\"id\"] == class_id:\n",
        "                # source.class_id combination already available, skip\n",
        "                return\n",
        "        # Add the class\n",
        "        self.class_info.append(\n",
        "            {\n",
        "                \"source\": source,\n",
        "                \"id\": class_id,\n",
        "                \"name\": class_name,\n",
        "            }\n",
        "        )\n",
        "\n",
        "    def add_image(self, source, subset, image_id, path, **kwargs):\n",
        "        image_info = {\n",
        "            \"id\": image_id,\n",
        "            \"subset\": subset,\n",
        "            \"source\": source,\n",
        "            \"path\": path,\n",
        "        }\n",
        "        image_info.update(kwargs)\n",
        "        self.image_info.append(image_info)\n",
        "        self.image_indices[image_id] = len(self.image_info) - 1\n",
        "\n",
        "    def update_info(self, image_id, **kwargs):\n",
        "        info = self.image_info[image_id]\n",
        "        info.update(kwargs)\n",
        "        self.image_info[image_id] = info\n",
        "\n",
        "    def load_metadata(self, metadata, key):\n",
        "        \"\"\"\n",
        "        metadata file has the following format:\n",
        "        {\n",
        "            \"image\": [<image_id>, <image_id>, ...],\n",
        "            \"label\": [<label_id>, <label_id>, ...]\n",
        "        }\n",
        "\n",
        "        Args:\n",
        "            metadata (str): Path to the metadata file\n",
        "            key (str): Key to load from the metadata file\n",
        "        \"\"\"\n",
        "\n",
        "        image_ids = []\n",
        "        with open(metadata, \"r\") as metadata_file:\n",
        "            image_ids += metadata_file.readlines()\n",
        "        return [p.rstrip() for p in image_ids]\n",
        "\n",
        "\n",
        "def visualize_samples(dataset, num_samples=3, labels=True):\n",
        "    \"\"\"\n",
        "    Visualize random samples from the dataset with images in the first column and labels in the second.\n",
        "\n",
        "    Args:\n",
        "        dataset (Dataset): The PyTorch Dataset to visualize.\n",
        "        num_samples (int): Number of random samples to visualize.\n",
        "    \"\"\"\n",
        "\n",
        "    # Print a message notifying that the transformation is applied\n",
        "    print(\"CAUTION!!!! Be careful with normalization...\") if dataset.transform is not None else None\n",
        "\n",
        "    # Randomly select indices\n",
        "    indices = random.sample(range(len(dataset)), num_samples)\n",
        "\n",
        "    # Set up the Matplotlib figure\n",
        "    fig, axes = plt.subplots(num_samples, 2, figsize=(10, 5 * num_samples))\n",
        "    if num_samples == 1:\n",
        "        axes = [axes]  # Ensure axes is iterable for a single sample\n",
        "\n",
        "    for i, idx in enumerate(indices):\n",
        "        image, label = dataset[idx]\n",
        "        image_path = dataset.image_info[idx][\"path\"]\n",
        "        label_path = dataset.image_info[idx][\"label\"]\n",
        "\n",
        "        image, label = v2.ToTensor()(image), v2.ToTensor()(label)\n",
        "        image_mask = draw_segmentation_masks(image, label.bool(), alpha=0.5)\n",
        "\n",
        "        image = image.permute(1, 2, 0).numpy()\n",
        "        image_mask = image_mask.permute(1, 2, 0).numpy()\n",
        "\n",
        "        # Display the image\n",
        "        axes[i][0].imshow(image)\n",
        "        axes[i][0].set_title(\n",
        "            f\"Image: {image_path.split('/')[-1].split('.')[0]} -- Size: {image.shape}\"\n",
        "        )\n",
        "        axes[i][0].axis(\"off\")\n",
        "\n",
        "        # Display the label\n",
        "        axes[i][1].imshow(image_mask)\n",
        "        axes[i][1].set_title(\n",
        "            f\"Label: {label_path.split('/')[-1].split('.')[0]} -- Size: {label.shape}\"\n",
        "        )\n",
        "        axes[i][1].axis(\"off\")\n",
        "\n",
        "    plt.tight_layout()\n",
        "    plt.show()\n",
        "\n",
        "def visualize_augmentations(dataset, idx=0, samples=10, cols=5):\n",
        "    dataset = copy.deepcopy(dataset)\n",
        "    # get transform from dataset and remove normalization\n",
        "    transform = dataset.transform.transforms[:-1]\n",
        "    dataset.transform = v2.Compose(transform)\n",
        "    rows = samples // cols\n",
        "    figure, ax = plt.subplots(nrows=rows, ncols=cols * 2, figsize=(12, 6))\n",
        "    for i in range(samples):\n",
        "        image, mask = dataset[idx]\n",
        "        image = image.permute(1, 2, 0).numpy()\n",
        "        mask = mask.permute(1, 2, 0).numpy()\n",
        "        ax.ravel()[i * 2].imshow(image)\n",
        "        ax.ravel()[i * 2].set_title(\"Image\")\n",
        "        ax.ravel()[i * 2].set_axis_off()\n",
        "        ax.ravel()[i * 2 + 1].imshow(mask, cmap='gray')\n",
        "        ax.ravel()[i * 2 + 1].set_title(\"Mask\")\n",
        "        ax.ravel()[i * 2 + 1].set_axis_off()\n",
        "    plt.tight_layout()\n",
        "    plt.show()\n",
        "\n",
        "def save_metrics(save_dir, prefix, train_losses, train_dcs, valid_losses, valid_dcs):\n",
        "    metrics = {\n",
        "        'train_losses': train_losses,\n",
        "        'train_dcs': train_dcs,\n",
        "        'valid_losses': valid_losses,\n",
        "        'valid_dcs': valid_dcs\n",
        "    }\n",
        "\n",
        "    with open(os.path.join(save_dir, f\"metrics_{prefix}.json\"), 'w') as f:\n",
        "        json.dump(metrics, f)"
      ],
      "metadata": {
        "execution": {
          "iopub.status.busy": "2025-01-11T16:20:45.386594Z",
          "iopub.execute_input": "2025-01-11T16:20:45.386968Z",
          "iopub.status.idle": "2025-01-11T16:20:45.417376Z",
          "shell.execute_reply.started": "2025-01-11T16:20:45.386934Z",
          "shell.execute_reply": "2025-01-11T16:20:45.416460Z"
        },
        "trusted": true,
        "id": "aQdDbCdUgmGg"
      },
      "outputs": [],
      "execution_count": 27
    },
    {
      "cell_type": "markdown",
      "source": [
        "## Metrics"
      ],
      "metadata": {
        "id": "JiZ3LT2JgmGh"
      }
    },
    {
      "cell_type": "code",
      "source": [
        "def dice_coefficient(prediction, target, epsilon=1e-07):\n",
        "    prediction_copy = prediction.clone()\n",
        "\n",
        "    prediction_copy[prediction_copy < 0] = 0\n",
        "    prediction_copy[prediction_copy > 0] = 1\n",
        "\n",
        "    intersection = abs(torch.sum(prediction_copy * target))\n",
        "    union = abs(torch.sum(prediction_copy) + torch.sum(target))\n",
        "    dice = (2. * intersection + epsilon) / (union + epsilon)\n",
        "\n",
        "    return dice"
      ],
      "metadata": {
        "execution": {
          "iopub.status.busy": "2025-01-11T16:20:45.418431Z",
          "iopub.execute_input": "2025-01-11T16:20:45.418696Z",
          "iopub.status.idle": "2025-01-11T16:20:45.435138Z",
          "shell.execute_reply.started": "2025-01-11T16:20:45.418676Z",
          "shell.execute_reply": "2025-01-11T16:20:45.434391Z"
        },
        "trusted": true,
        "id": "KvfuWmHCgmGi"
      },
      "outputs": [],
      "execution_count": 8
    },
    {
      "cell_type": "markdown",
      "source": [
        "## Losses"
      ],
      "metadata": {
        "id": "oHSelxQDgmGi"
      }
    },
    {
      "cell_type": "code",
      "source": [
        "def make_one_hot(input, num_classes):\n",
        "    \"\"\"Convert class index tensor to one hot encoding tensor.\n",
        "\n",
        "    Args:\n",
        "         input: A tensor of shape [N, 1, *]\n",
        "         num_classes: An int of number of class\n",
        "    Returns:\n",
        "        A tensor of shape [N, num_classes, *]\n",
        "    \"\"\"\n",
        "    shape = np.array(input.shape)\n",
        "    shape[1] = num_classes\n",
        "    shape = tuple(shape)\n",
        "    result = torch.zeros(shape)\n",
        "    result = result.scatter_(1, input.cpu(), 1)\n",
        "\n",
        "    return result\n",
        "\n",
        "\n",
        "class BinaryDiceLoss(nn.Module):\n",
        "    \"\"\"Dice loss of binary class\n",
        "    Args:\n",
        "        smooth: A float number to smooth loss, and avoid NaN error, default: 1\n",
        "        p: Denominator value: \\sum{x^p} + \\sum{y^p}, default: 2\n",
        "        predict: A tensor of shape [N, *]\n",
        "        target: A tensor of shape same with predict\n",
        "        reduction: Reduction method to apply, return mean over batch if 'mean',\n",
        "            return sum if 'sum', return a tensor of shape [N,] if 'none'\n",
        "    Returns:\n",
        "        Loss tensor according to arg reduction\n",
        "    Raise:\n",
        "        Exception if unexpected reduction\n",
        "    \"\"\"\n",
        "    def __init__(self, smooth=1, p=2, reduction='mean'):\n",
        "        super(BinaryDiceLoss, self).__init__()\n",
        "        self.smooth = smooth\n",
        "        self.p = p\n",
        "        self.reduction = reduction\n",
        "\n",
        "    def forward(self, predict, target):\n",
        "        assert predict.shape[0] == target.shape[0], \"predict & target batch size don't match\"\n",
        "        predict = predict.contiguous().view(predict.shape[0], -1)\n",
        "        target = target.contiguous().view(target.shape[0], -1)\n",
        "\n",
        "        num = torch.sum(torch.mul(predict, target), dim=1) + self.smooth\n",
        "        den = torch.sum(predict.pow(self.p) + target.pow(self.p), dim=1) + self.smooth\n",
        "\n",
        "        loss = 1 - num / den\n",
        "\n",
        "        if self.reduction == 'mean':\n",
        "            return loss.mean()\n",
        "        elif self.reduction == 'sum':\n",
        "            return loss.sum()\n",
        "        elif self.reduction == 'none':\n",
        "            return loss\n",
        "        else:\n",
        "            raise Exception('Unexpected reduction {}'.format(self.reduction))\n",
        "\n",
        "\n",
        "class DiceLoss(nn.Module):\n",
        "    \"\"\"Dice loss, need one hot encode input\n",
        "    Args:\n",
        "        weight: An array of shape [num_classes,]\n",
        "        ignore_index: class index to ignore\n",
        "        predict: A tensor of shape [N, C, *]\n",
        "        target: A tensor of same shape with predict\n",
        "        other args pass to BinaryDiceLoss\n",
        "    Return:\n",
        "        same as BinaryDiceLoss\n",
        "    \"\"\"\n",
        "    def __init__(self, weight=None, ignore_index=None, **kwargs):\n",
        "        super(DiceLoss, self).__init__()\n",
        "        self.kwargs = kwargs\n",
        "        self.weight = weight\n",
        "        self.ignore_index = ignore_index\n",
        "\n",
        "    def forward(self, predict, target):\n",
        "        assert predict.shape == target.shape, 'predict & target shape do not match'\n",
        "        dice = BinaryDiceLoss(**self.kwargs)\n",
        "        total_loss = 0\n",
        "        predict = F.softmax(predict, dim=1)\n",
        "\n",
        "        for i in range(target.shape[1]):\n",
        "            if i != self.ignore_index:\n",
        "                dice_loss = dice(predict[:, i], target[:, i])\n",
        "                if self.weight is not None:\n",
        "                    assert self.weight.shape[0] == target.shape[1], \\\n",
        "                        'Expect weight shape [{}], get[{}]'.format(target.shape[1], self.weight.shape[0])\n",
        "                    dice_loss *= self.weights[i]\n",
        "                total_loss += dice_loss\n",
        "\n",
        "        return total_loss/target.shape[1]\n",
        "\n",
        "def dice_loss(pred, target, epsilon=1e-6):\n",
        "    # Flatten the tensors for Dice coefficient calculation\n",
        "    pred = pred.view(-1)\n",
        "    target = target.view(-1)\n",
        "\n",
        "    # Calculate intersection and Dice coefficient\n",
        "    intersection = (pred * target).sum()\n",
        "    dice = (2. * intersection + epsilon) / (pred.sum() + target.sum() + epsilon)\n",
        "\n",
        "    return 1 - dice\n"
      ],
      "metadata": {
        "execution": {
          "iopub.status.busy": "2025-01-11T16:20:45.436825Z",
          "iopub.execute_input": "2025-01-11T16:20:45.437075Z",
          "iopub.status.idle": "2025-01-11T16:20:45.450211Z",
          "shell.execute_reply.started": "2025-01-11T16:20:45.437055Z",
          "shell.execute_reply": "2025-01-11T16:20:45.449491Z"
        },
        "trusted": true,
        "id": "DjMq6TB5gmGi"
      },
      "outputs": [],
      "execution_count": 9
    },
    {
      "cell_type": "markdown",
      "source": [
        "## Augmentation"
      ],
      "metadata": {
        "id": "mqXLT0AWgmGj"
      }
    },
    {
      "cell_type": "code",
      "source": [
        "from torchvision.transforms.functional import InterpolationMode\n",
        "\n",
        "def torch_train_transform(size=(224, 224), scale=(0.08, 1.0), rotation=30, flip=0.5):\n",
        "    image_transforms = v2.Compose([\n",
        "        # v2.ToImage(),\n",
        "        # v2.RandomCrop(size),  # Random crop of size 256x256\n",
        "        v2.Resize(size),\n",
        "        v2.RandomRotation(degrees=rotation, interpolation=InterpolationMode.BILINEAR),  # Random rotation within 30 degrees\n",
        "        # v2.RandomResize(size=size, scale=scale),  # Random rescale and crop\n",
        "        v2.RandomAffine(degrees=15, translate=(0.1, 0.1)),  # Random affine transformation\n",
        "        v2.RandomHorizontalFlip(p=flip),  # Random horizontal flip\n",
        "        v2.GaussianBlur(kernel_size=3),  # Apply Gaussian blur\n",
        "        # v2.RandomErasing(p=0.5),  # Random cutout\n",
        "        v2.ColorJitter(brightness=0.2, contrast=0.2, saturation=0.2, hue=0.1),  # Random color jitter\n",
        "        # v2.ToDtype(torch.float32, scale=True),\n",
        "        v2.ToTensor(),\n",
        "        # v2.Normalize(mean=[0.485, 0.456, 0.406], std=[0.229, 0.224, 0.225]),\n",
        "    ])\n",
        "\n",
        "    return image_transforms\n",
        "\n",
        "def torch_valid_transform(size=(224, 224)):\n",
        "    image_transforms = v2.Compose([\n",
        "        v2.Resize(size),\n",
        "        # v2.ToDtype(torch.float32, scale=True),\n",
        "        v2.ToTensor(),\n",
        "        # v2.Normalize(mean=[0.485, 0.456, 0.406], std=[0.229, 0.224, 0.225]),\n",
        "    ])\n",
        "\n",
        "    return image_transforms\n"
      ],
      "metadata": {
        "execution": {
          "iopub.status.busy": "2025-01-11T16:20:45.451359Z",
          "iopub.execute_input": "2025-01-11T16:20:45.451623Z",
          "iopub.status.idle": "2025-01-11T16:20:45.468100Z",
          "shell.execute_reply.started": "2025-01-11T16:20:45.451599Z",
          "shell.execute_reply": "2025-01-11T16:20:45.467366Z"
        },
        "trusted": true,
        "id": "yBuJbk2egmGj"
      },
      "outputs": [],
      "execution_count": 42
    },
    {
      "cell_type": "markdown",
      "source": [
        "## Load dataset"
      ],
      "metadata": {
        "id": "mwGrX-hxgmGj"
      }
    },
    {
      "cell_type": "code",
      "source": [
        "transform_train = torch_train_transform(config['image_size'])\n",
        "transform_valid = torch_valid_transform(config['image_size'])\n",
        "\n",
        "train_dataset = GDXrayDataset(config, labels=config['labels'], transform=transform_train)\n",
        "valid_dataset = GDXrayDataset(config, labels=config['labels'], transform=transform_valid)"
      ],
      "metadata": {
        "execution": {
          "iopub.status.busy": "2025-01-11T16:20:45.468856Z",
          "iopub.execute_input": "2025-01-11T16:20:45.469120Z",
          "iopub.status.idle": "2025-01-11T16:20:45.550653Z",
          "shell.execute_reply.started": "2025-01-11T16:20:45.469078Z",
          "shell.execute_reply": "2025-01-11T16:20:45.549862Z"
        },
        "trusted": true,
        "collapsed": true,
        "id": "g3QV18ksgmGj",
        "outputId": "7273b471-5a1e-4056-8903-0e3653f94ca0",
        "colab": {
          "base_uri": "https://localhost:8080/"
        }
      },
      "outputs": [
        {
          "output_type": "stream",
          "name": "stdout",
          "text": [
            "Adding image:  welding/W0001/W0001_0000.png\n",
            "Adding image:  welding/W0001/W0001_0001.png\n",
            "Adding image:  welding/W0001/W0001_0002.png\n",
            "Adding image:  welding/W0001/W0001_0003.png\n",
            "Adding image:  welding/W0001/W0001_0004.png\n",
            "Adding image:  welding/W0001/W0001_0005.png\n",
            "Adding image:  welding/W0001/W0001_0006.png\n",
            "Adding image:  welding/W0001/W0001_0007.png\n",
            "Adding image:  welding/W0001/W0001_0008.png\n",
            "Adding image:  welding/W0001/W0001_0009.png\n",
            "Adding image:  welding/W0001/W0001_0010.png\n",
            "Adding image:  welding/W0001/W0001_0011.png\n",
            "Adding image:  welding/W0001/W0001_0012.png\n",
            "Adding image:  welding/W0001/W0001_0013.png\n",
            "Adding image:  welding/W0001/W0001_0014.png\n",
            "Adding image:  welding/W0001/W0001_0015.png\n",
            "Adding image:  welding/W0001/W0001_0016.png\n",
            "Adding image:  welding/W0001/W0001_0017.png\n",
            "Adding image:  welding/W0001/W0001_0018.png\n",
            "Adding image:  welding/W0001/W0001_0019.png\n",
            "Adding image:  welding/W0001/W0001_0020.png\n",
            "Adding image:  welding/W0001/W0001_0021.png\n",
            "Adding image:  welding/W0001/W0001_0022.png\n",
            "Adding image:  welding/W0001/W0001_0023.png\n",
            "Adding image:  welding/W0001/W0001_0024.png\n",
            "Adding image:  welding/W0001/W0001_0025.png\n",
            "Adding image:  welding/W0001/W0001_0026.png\n",
            "Adding image:  welding/W0001/W0001_0027.png\n",
            "Adding image:  welding/W0001/W0001_0028.png\n",
            "Adding image:  welding/W0001/W0001_0029.png\n",
            "Adding image:  welding/W0001/W0001_0030.png\n",
            "Adding image:  welding/W0001/W0001_0031.png\n",
            "Adding image:  welding/W0001/W0001_0032.png\n",
            "Adding image:  welding/W0001/W0001_0033.png\n",
            "Adding image:  welding/W0001/W0001_0034.png\n",
            "Adding image:  welding/W0001/W0001_0035.png\n",
            "Adding image:  welding/W0001/W0001_0036.png\n",
            "Adding image:  welding/W0001/W0001_0037.png\n",
            "Adding image:  welding/W0001/W0001_0038.png\n",
            "Adding image:  welding/W0001/W0001_0039.png\n",
            "Adding image:  welding/W0001/W0001_0040.png\n",
            "Adding image:  welding/W0001/W0001_0041.png\n",
            "Adding image:  welding/W0001/W0001_0042.png\n",
            "Adding image:  welding/W0001/W0001_0043.png\n",
            "Adding image:  welding/W0001/W0001_0044.png\n",
            "Adding image:  welding/W0001/W0001_0045.png\n",
            "Adding image:  welding/W0001/W0001_0046.png\n",
            "Adding image:  welding/W0001/W0001_0047.png\n",
            "Adding image:  welding/W0001/W0001_0048.png\n",
            "Adding image:  welding/W0001/W0001_0049.png\n",
            "Adding image:  welding/W0001/W0001_0050.png\n",
            "Adding image:  welding/W0001/W0001_0051.png\n",
            "Adding image:  welding/W0001/W0001_0052.png\n",
            "Adding image:  welding/W0001/W0001_0053.png\n",
            "Adding image:  welding/W0001/W0001_0054.png\n",
            "Adding image:  welding/W0001/W0001_0055.png\n",
            "Adding image:  welding/W0001/W0001_0056.png\n",
            "Adding image:  welding/W0001/W0001_0000.png\n",
            "Adding image:  welding/W0001/W0001_0001.png\n",
            "Adding image:  welding/W0001/W0001_0002.png\n",
            "Adding image:  welding/W0001/W0001_0003.png\n",
            "Adding image:  welding/W0001/W0001_0004.png\n",
            "Adding image:  welding/W0001/W0001_0005.png\n",
            "Adding image:  welding/W0001/W0001_0006.png\n",
            "Adding image:  welding/W0001/W0001_0007.png\n",
            "Adding image:  welding/W0001/W0001_0008.png\n",
            "Adding image:  welding/W0001/W0001_0009.png\n",
            "Adding image:  welding/W0001/W0001_0010.png\n",
            "Adding image:  welding/W0001/W0001_0011.png\n",
            "Adding image:  welding/W0001/W0001_0012.png\n",
            "Adding image:  welding/W0001/W0001_0013.png\n",
            "Adding image:  welding/W0001/W0001_0014.png\n",
            "Adding image:  welding/W0001/W0001_0015.png\n",
            "Adding image:  welding/W0001/W0001_0016.png\n",
            "Adding image:  welding/W0001/W0001_0017.png\n",
            "Adding image:  welding/W0001/W0001_0018.png\n",
            "Adding image:  welding/W0001/W0001_0019.png\n",
            "Adding image:  welding/W0001/W0001_0020.png\n",
            "Adding image:  welding/W0001/W0001_0021.png\n",
            "Adding image:  welding/W0001/W0001_0022.png\n",
            "Adding image:  welding/W0001/W0001_0023.png\n",
            "Adding image:  welding/W0001/W0001_0024.png\n",
            "Adding image:  welding/W0001/W0001_0025.png\n",
            "Adding image:  welding/W0001/W0001_0026.png\n",
            "Adding image:  welding/W0001/W0001_0027.png\n",
            "Adding image:  welding/W0001/W0001_0028.png\n",
            "Adding image:  welding/W0001/W0001_0029.png\n",
            "Adding image:  welding/W0001/W0001_0030.png\n",
            "Adding image:  welding/W0001/W0001_0031.png\n",
            "Adding image:  welding/W0001/W0001_0032.png\n",
            "Adding image:  welding/W0001/W0001_0033.png\n",
            "Adding image:  welding/W0001/W0001_0034.png\n",
            "Adding image:  welding/W0001/W0001_0035.png\n",
            "Adding image:  welding/W0001/W0001_0036.png\n",
            "Adding image:  welding/W0001/W0001_0037.png\n",
            "Adding image:  welding/W0001/W0001_0038.png\n",
            "Adding image:  welding/W0001/W0001_0039.png\n",
            "Adding image:  welding/W0001/W0001_0040.png\n",
            "Adding image:  welding/W0001/W0001_0041.png\n",
            "Adding image:  welding/W0001/W0001_0042.png\n",
            "Adding image:  welding/W0001/W0001_0043.png\n",
            "Adding image:  welding/W0001/W0001_0044.png\n",
            "Adding image:  welding/W0001/W0001_0045.png\n",
            "Adding image:  welding/W0001/W0001_0046.png\n",
            "Adding image:  welding/W0001/W0001_0047.png\n",
            "Adding image:  welding/W0001/W0001_0048.png\n",
            "Adding image:  welding/W0001/W0001_0049.png\n",
            "Adding image:  welding/W0001/W0001_0050.png\n",
            "Adding image:  welding/W0001/W0001_0051.png\n",
            "Adding image:  welding/W0001/W0001_0052.png\n",
            "Adding image:  welding/W0001/W0001_0053.png\n",
            "Adding image:  welding/W0001/W0001_0054.png\n",
            "Adding image:  welding/W0001/W0001_0055.png\n",
            "Adding image:  welding/W0001/W0001_0056.png\n"
          ]
        }
      ],
      "execution_count": 43
    },
    {
      "cell_type": "code",
      "source": [
        "img, lbl = train_dataset[0]\n",
        "\n",
        "visualize_samples(train_dataset, num_samples=3)\n",
        "\n",
        "# min max\n",
        "print(torch.min(img), torch.max(img))\n",
        "print(torch.min(lbl), torch.max(lbl))"
      ],
      "metadata": {
        "collapsed": true,
        "id": "JYnaOD_1nBhW",
        "outputId": "67a39e7e-faeb-4e7d-ee1d-7b4ea3b9e912",
        "colab": {
          "base_uri": "https://localhost:8080/",
          "height": 1000
        }
      },
      "execution_count": 44,
      "outputs": [
        {
          "output_type": "stream",
          "name": "stdout",
          "text": [
            "CAUTION!!!! Be careful with normalization...\n"
          ]
        },
        {
          "output_type": "display_data",
          "data": {
            "text/plain": [
              "<Figure size 1000x1500 with 6 Axes>"
            ],
            "image/png": "[encoded data removed]"
          },
          "metadata": {}
        },
        {
          "output_type": "stream",
          "name": "stdout",
          "text": [
            "tensor(0.0471) tensor(0.6824)\n",
            "tensor(0.) tensor(1.)\n"
          ]
        }
      ]
    },
    {
      "cell_type": "code",
      "source": [
        "if config['device'] == \"cuda\":\n",
        "    num_workers = torch.cuda.device_count() * 4"
      ],
      "metadata": {
        "execution": {
          "iopub.status.busy": "2025-01-11T16:20:45.551545Z",
          "iopub.execute_input": "2025-01-11T16:20:45.551810Z",
          "iopub.status.idle": "2025-01-11T16:20:45.555724Z",
          "shell.execute_reply.started": "2025-01-11T16:20:45.551786Z",
          "shell.execute_reply": "2025-01-11T16:20:45.554852Z"
        },
        "trusted": true,
        "id": "i009wzQZgmGk"
      },
      "outputs": [],
      "execution_count": 33
    },
    {
      "cell_type": "code",
      "source": [
        "train_dataloader = DataLoader(dataset=train_dataset,\n",
        "                              num_workers=num_workers, pin_memory=False,\n",
        "                              batch_size=config['batch_size'],\n",
        "                              shuffle=True)\n",
        "valid_dataloader = DataLoader(dataset=valid_dataset,\n",
        "                              num_workers=num_workers, pin_memory=False,\n",
        "                              batch_size=config['batch_size'],\n",
        "                              shuffle=True)"
      ],
      "metadata": {
        "execution": {
          "iopub.status.busy": "2025-01-11T16:20:45.556469Z",
          "iopub.execute_input": "2025-01-11T16:20:45.556722Z",
          "iopub.status.idle": "2025-01-11T16:20:45.574073Z",
          "shell.execute_reply.started": "2025-01-11T16:20:45.556699Z",
          "shell.execute_reply": "2025-01-11T16:20:45.573320Z"
        },
        "trusted": true,
        "id": "2lCAbA0sgmGk"
      },
      "outputs": [],
      "execution_count": 34
    },
    {
      "cell_type": "markdown",
      "source": [
        "## Create model and opt and loss"
      ],
      "metadata": {
        "id": "icplQRVpgmGk"
      }
    },
    {
      "cell_type": "code",
      "source": [
        "output_list = [32, 64, 128, 256, 512]\n",
        "num_parallel = 2\n",
        "num_classes = 1\n",
        "upsampling_cfg = dict(type='carafe', scale_factor=2, kernel_up=5, kernel_encoder=3)\n",
        "model = WResHDC_FF(num_classes, 3, output_list, num_parallel, upsample_cfg=upsampling_cfg)\n",
        "model.to(config['device'])\n",
        "\n",
        "optimizer = optim.AdamW(model.parameters(), lr=config['learning_rate'])\n",
        "criterion = nn.BCEWithLogitsLoss()"
      ],
      "metadata": {
        "execution": {
          "iopub.status.busy": "2025-01-11T16:20:45.576556Z",
          "iopub.execute_input": "2025-01-11T16:20:45.576796Z",
          "iopub.status.idle": "2025-01-11T16:20:46.632689Z",
          "shell.execute_reply.started": "2025-01-11T16:20:45.576777Z",
          "shell.execute_reply": "2025-01-11T16:20:46.632013Z"
        },
        "trusted": true,
        "id": "C7nuYFfTgmGk"
      },
      "outputs": [],
      "execution_count": 35
    },
    {
      "cell_type": "code",
      "source": [
        "torch.cuda.empty_cache()"
      ],
      "metadata": {
        "execution": {
          "iopub.status.busy": "2025-01-11T16:20:46.633741Z",
          "iopub.execute_input": "2025-01-11T16:20:46.633985Z",
          "iopub.status.idle": "2025-01-11T16:20:46.728038Z",
          "shell.execute_reply.started": "2025-01-11T16:20:46.633965Z",
          "shell.execute_reply": "2025-01-11T16:20:46.727073Z"
        },
        "trusted": true,
        "id": "377IM-DNgmGk"
      },
      "outputs": [],
      "execution_count": 36
    },
    {
      "cell_type": "markdown",
      "source": [
        "## Train model"
      ],
      "metadata": {
        "id": "3lyIWUzxgmGl"
      }
    },
    {
      "cell_type": "code",
      "source": [
        "train_losses = []\n",
        "train_dcs = []\n",
        "valid_losses = []\n",
        "valid_dcs = []\n",
        "\n",
        "for epoch in tqdm(range(config['epochs'])):\n",
        "    model.train()\n",
        "    train_running_loss = 0.0\n",
        "    train_running_dc = 0.0\n",
        "    for idx, img_mask in enumerate(tqdm(train_dataloader, position=0, leave=True)):\n",
        "        img = img_mask[0].to(config['device'], dtype=torch.float32)\n",
        "        mask = img_mask[1].to(config['device'], dtype=torch.long)\n",
        "        y_pred = model(img)\n",
        "        optimizer.zero_grad()\n",
        "        dc = dice_coefficient(y_pred.squeeze(1), mask.float())\n",
        "        loss = criterion(y_pred.squeeze(1), mask.float())\n",
        "        loss += dice_loss(F.sigmoid(y_pred.squeeze(1)), mask.float())\n",
        "        train_running_loss += loss.item()\n",
        "        train_running_dc += dc.item()\n",
        "        loss.backward()\n",
        "        optimizer.step()\n",
        "    train_loss = train_running_loss / (idx + 1)\n",
        "    train_dc = train_running_dc / (idx + 1)\n",
        "    train_losses.append(train_loss)\n",
        "    train_dcs.append(train_dc)\n",
        "    model.eval()\n",
        "    val_running_loss = 0.0\n",
        "    val_running_dc = 0.0\n",
        "    with torch.no_grad():\n",
        "        for idx, img_mask in enumerate(tqdm(valid_dataloader, position=0, leave=True)):\n",
        "            img = img_mask[0].float().to(config['device'])\n",
        "            mask = img_mask[1].float().to(config['device'])\n",
        "\n",
        "            y_pred = model(img)\n",
        "            loss = criterion(y_pred.squeeze(1), mask)\n",
        "            loss += dice_loss(F.sigmoid(y_pred.squeeze(1)), mask)\n",
        "            dc = dice_coefficient(y_pred.squeeze(1), mask)\n",
        "            val_running_loss += loss.item()\n",
        "            val_running_dc += dc.item()\n",
        "        val_loss = val_running_loss / (idx + 1)\n",
        "        val_dc = val_running_dc / (idx + 1)\n",
        "    valid_losses.append(val_loss)\n",
        "    valid_dcs.append(val_dc)\n",
        "    print(\"-\" * 30)\n",
        "    print(f\"Training Loss EPOCH {epoch + 1}: {train_loss:.4f}\")\n",
        "    print(f\"Training DICE EPOCH {epoch + 1}: {train_dc:.4f}\")\n",
        "    print(\"\\n\")\n",
        "    print(f\"Validation Loss EPOCH {epoch + 1}: {val_loss:.4f}\")\n",
        "    print(f\"Validation DICE EPOCH {epoch + 1}: {val_dc:.4f}\")\n",
        "    print(\"-\" * 30)"
      ],
      "metadata": {
        "execution": {
          "iopub.status.busy": "2025-01-11T16:20:46.728905Z",
          "iopub.execute_input": "2025-01-11T16:20:46.729157Z",
          "iopub.status.idle": "2025-01-11T16:42:01.780541Z",
          "shell.execute_reply.started": "2025-01-11T16:20:46.729137Z",
          "shell.execute_reply": "2025-01-11T16:42:01.779636Z"
        },
        "trusted": true,
        "id": "V-voPeV8gmGn",
        "outputId": "5aaf5826-d8d6-4aab-cfc3-bd3466705ca2",
        "colab": {
          "base_uri": "https://localhost:8080/"
        }
      },
      "outputs": [
        {
          "output_type": "stream",
          "name": "stderr",
          "text": [
            "100%|██████████| 29/29 [00:21<00:00,  1.32it/s]\n",
            "100%|██████████| 29/29 [00:01<00:00, 25.42it/s]\n",
            "  1%|          | 1/100 [00:23<38:08, 23.12s/it]"
          ]
        },
        {
          "output_type": "stream",
          "name": "stdout",
          "text": [
            "------------------------------\n",
            "Training Loss EPOCH 1: 1.5886\n",
            "Training DICE EPOCH 1: 0.0981\n",
            "\n",
            "\n",
            "Validation Loss EPOCH 1: 1.6632\n",
            "Validation DICE EPOCH 1: 0.0889\n",
            "------------------------------\n"
          ]
        },
        {
          "output_type": "stream",
          "name": "stderr",
          "text": [
            "100%|██████████| 29/29 [00:02<00:00, 11.22it/s]\n",
            "100%|██████████| 29/29 [00:01<00:00, 25.35it/s]\n",
            "  2%|▏         | 2/100 [00:26<19:09, 11.72s/it]"
          ]
        },
        {
          "output_type": "stream",
          "name": "stdout",
          "text": [
            "------------------------------\n",
            "Training Loss EPOCH 2: 1.4883\n",
            "Training DICE EPOCH 2: 0.0855\n",
            "\n",
            "\n",
            "Validation Loss EPOCH 2: 1.4848\n",
            "Validation DICE EPOCH 2: 0.0189\n",
            "------------------------------\n"
          ]
        },
        {
          "output_type": "stream",
          "name": "stderr",
          "text": [
            "100%|██████████| 29/29 [00:02<00:00, 11.52it/s]\n",
            "100%|██████████| 29/29 [00:01<00:00, 27.07it/s]\n",
            "  3%|▎         | 3/100 [00:30<12:57,  8.02s/it]"
          ]
        },
        {
          "output_type": "stream",
          "name": "stdout",
          "text": [
            "------------------------------\n",
            "Training Loss EPOCH 3: 1.4278\n",
            "Training DICE EPOCH 3: 0.0130\n",
            "\n",
            "\n",
            "Validation Loss EPOCH 3: 1.4267\n",
            "Validation DICE EPOCH 3: 0.0000\n",
            "------------------------------\n"
          ]
        },
        {
          "output_type": "stream",
          "name": "stderr",
          "text": [
            "100%|██████████| 29/29 [00:02<00:00, 11.62it/s]\n",
            "100%|██████████| 29/29 [00:01<00:00, 25.56it/s]\n",
            "  4%|▍         | 4/100 [00:34<10:03,  6.29s/it]"
          ]
        },
        {
          "output_type": "stream",
          "name": "stdout",
          "text": [
            "------------------------------\n",
            "Training Loss EPOCH 4: 1.3835\n",
            "Training DICE EPOCH 4: 0.0057\n",
            "\n",
            "\n",
            "Validation Loss EPOCH 4: 1.3683\n",
            "Validation DICE EPOCH 4: 0.0024\n",
            "------------------------------\n"
          ]
        },
        {
          "output_type": "stream",
          "name": "stderr",
          "text": [
            "100%|██████████| 29/29 [00:02<00:00, 11.78it/s]\n",
            "100%|██████████| 29/29 [00:01<00:00, 25.73it/s]\n",
            "  5%|▌         | 5/100 [00:37<08:25,  5.32s/it]"
          ]
        },
        {
          "output_type": "stream",
          "name": "stdout",
          "text": [
            "------------------------------\n",
            "Training Loss EPOCH 5: 1.3639\n",
            "Training DICE EPOCH 5: 0.0012\n",
            "\n",
            "\n",
            "Validation Loss EPOCH 5: 1.3692\n",
            "Validation DICE EPOCH 5: 0.0001\n",
            "------------------------------\n"
          ]
        },
        {
          "output_type": "stream",
          "name": "stderr",
          "text": [
            "100%|██████████| 29/29 [00:02<00:00, 11.49it/s]\n",
            "100%|██████████| 29/29 [00:01<00:00, 25.57it/s]\n",
            "  6%|▌         | 6/100 [00:41<07:27,  4.76s/it]"
          ]
        },
        {
          "output_type": "stream",
          "name": "stdout",
          "text": [
            "------------------------------\n",
            "Training Loss EPOCH 6: 1.3287\n",
            "Training DICE EPOCH 6: 0.0005\n",
            "\n",
            "\n",
            "Validation Loss EPOCH 6: 1.3497\n",
            "Validation DICE EPOCH 6: 0.0005\n",
            "------------------------------\n"
          ]
        },
        {
          "output_type": "stream",
          "name": "stderr",
          "text": [
            "100%|██████████| 29/29 [00:02<00:00, 11.45it/s]\n",
            "100%|██████████| 29/29 [00:01<00:00, 25.20it/s]\n",
            "  7%|▋         | 7/100 [00:45<06:50,  4.41s/it]"
          ]
        },
        {
          "output_type": "stream",
          "name": "stdout",
          "text": [
            "------------------------------\n",
            "Training Loss EPOCH 7: 1.3016\n",
            "Training DICE EPOCH 7: 0.0025\n",
            "\n",
            "\n",
            "Validation Loss EPOCH 7: 1.2824\n",
            "Validation DICE EPOCH 7: 0.0007\n",
            "------------------------------\n"
          ]
        },
        {
          "output_type": "stream",
          "name": "stderr",
          "text": [
            "100%|██████████| 29/29 [00:02<00:00, 11.30it/s]\n",
            "100%|██████████| 29/29 [00:01<00:00, 25.46it/s]\n",
            "  8%|▊         | 8/100 [00:48<06:25,  4.19s/it]"
          ]
        },
        {
          "output_type": "stream",
          "name": "stdout",
          "text": [
            "------------------------------\n",
            "Training Loss EPOCH 8: 1.2984\n",
            "Training DICE EPOCH 8: 0.0345\n",
            "\n",
            "\n",
            "Validation Loss EPOCH 8: 1.2645\n",
            "Validation DICE EPOCH 8: 0.0000\n",
            "------------------------------\n"
          ]
        },
        {
          "output_type": "stream",
          "name": "stderr",
          "text": [
            "100%|██████████| 29/29 [00:02<00:00, 11.33it/s]\n",
            "100%|██████████| 29/29 [00:01<00:00, 25.42it/s]\n",
            "  9%|▉         | 9/100 [00:52<06:07,  4.04s/it]"
          ]
        },
        {
          "output_type": "stream",
          "name": "stdout",
          "text": [
            "------------------------------\n",
            "Training Loss EPOCH 9: 1.2892\n",
            "Training DICE EPOCH 9: 0.0029\n",
            "\n",
            "\n",
            "Validation Loss EPOCH 9: 1.2832\n",
            "Validation DICE EPOCH 9: 0.0064\n",
            "------------------------------\n"
          ]
        },
        {
          "output_type": "stream",
          "name": "stderr",
          "text": [
            "100%|██████████| 29/29 [00:02<00:00, 11.70it/s]\n",
            "100%|██████████| 29/29 [00:01<00:00, 26.51it/s]\n",
            " 10%|█         | 10/100 [00:56<05:51,  3.90s/it]"
          ]
        },
        {
          "output_type": "stream",
          "name": "stdout",
          "text": [
            "------------------------------\n",
            "Training Loss EPOCH 10: 1.2807\n",
            "Training DICE EPOCH 10: 0.0001\n",
            "\n",
            "\n",
            "Validation Loss EPOCH 10: 1.2096\n",
            "Validation DICE EPOCH 10: 0.0000\n",
            "------------------------------\n"
          ]
        },
        {
          "output_type": "stream",
          "name": "stderr",
          "text": [
            "100%|██████████| 29/29 [00:02<00:00, 11.64it/s]\n",
            "100%|██████████| 29/29 [00:01<00:00, 26.24it/s]\n",
            " 11%|█         | 11/100 [00:59<05:39,  3.81s/it]"
          ]
        },
        {
          "output_type": "stream",
          "name": "stdout",
          "text": [
            "------------------------------\n",
            "Training Loss EPOCH 11: 1.2508\n",
            "Training DICE EPOCH 11: 0.0000\n",
            "\n",
            "\n",
            "Validation Loss EPOCH 11: 1.2867\n",
            "Validation DICE EPOCH 11: 0.0000\n",
            "------------------------------\n"
          ]
        },
        {
          "output_type": "stream",
          "name": "stderr",
          "text": [
            "100%|██████████| 29/29 [00:02<00:00, 11.47it/s]\n",
            "100%|██████████| 29/29 [00:01<00:00, 25.97it/s]\n",
            " 12%|█▏        | 12/100 [01:03<05:31,  3.77s/it]"
          ]
        },
        {
          "output_type": "stream",
          "name": "stdout",
          "text": [
            "------------------------------\n",
            "Training Loss EPOCH 12: 1.3081\n",
            "Training DICE EPOCH 12: 0.0001\n",
            "\n",
            "\n",
            "Validation Loss EPOCH 12: 1.2253\n",
            "Validation DICE EPOCH 12: 0.0000\n",
            "------------------------------\n"
          ]
        },
        {
          "output_type": "stream",
          "name": "stderr",
          "text": [
            "100%|██████████| 29/29 [00:02<00:00, 11.62it/s]\n",
            "100%|██████████| 29/29 [00:01<00:00, 25.79it/s]\n",
            " 13%|█▎        | 13/100 [01:07<05:24,  3.73s/it]"
          ]
        },
        {
          "output_type": "stream",
          "name": "stdout",
          "text": [
            "------------------------------\n",
            "Training Loss EPOCH 13: 1.3347\n",
            "Training DICE EPOCH 13: 0.0402\n",
            "\n",
            "\n",
            "Validation Loss EPOCH 13: 1.1495\n",
            "Validation DICE EPOCH 13: 0.0000\n",
            "------------------------------\n"
          ]
        },
        {
          "output_type": "stream",
          "name": "stderr",
          "text": [
            "100%|██████████| 29/29 [00:02<00:00, 11.57it/s]\n",
            "100%|██████████| 29/29 [00:01<00:00, 24.01it/s]\n",
            " 14%|█▍        | 14/100 [01:10<05:20,  3.73s/it]"
          ]
        },
        {
          "output_type": "stream",
          "name": "stdout",
          "text": [
            "------------------------------\n",
            "Training Loss EPOCH 14: 1.2804\n",
            "Training DICE EPOCH 14: 0.0009\n",
            "\n",
            "\n",
            "Validation Loss EPOCH 14: 1.2692\n",
            "Validation DICE EPOCH 14: 0.0404\n",
            "------------------------------\n"
          ]
        },
        {
          "output_type": "stream",
          "name": "stderr",
          "text": [
            "100%|██████████| 29/29 [00:02<00:00, 11.37it/s]\n",
            "100%|██████████| 29/29 [00:01<00:00, 25.44it/s]\n",
            " 15%|█▌        | 15/100 [01:14<05:16,  3.72s/it]"
          ]
        },
        {
          "output_type": "stream",
          "name": "stdout",
          "text": [
            "------------------------------\n",
            "Training Loss EPOCH 15: 1.3411\n",
            "Training DICE EPOCH 15: 0.0000\n",
            "\n",
            "\n",
            "Validation Loss EPOCH 15: 1.2206\n",
            "Validation DICE EPOCH 15: 0.0000\n",
            "------------------------------\n"
          ]
        },
        {
          "output_type": "stream",
          "name": "stderr",
          "text": [
            "100%|██████████| 29/29 [00:02<00:00, 11.27it/s]\n",
            "100%|██████████| 29/29 [00:01<00:00, 26.28it/s]\n",
            " 16%|█▌        | 16/100 [01:18<05:11,  3.71s/it]"
          ]
        },
        {
          "output_type": "stream",
          "name": "stdout",
          "text": [
            "------------------------------\n",
            "Training Loss EPOCH 16: 1.2453\n",
            "Training DICE EPOCH 16: 0.0345\n",
            "\n",
            "\n",
            "Validation Loss EPOCH 16: 1.2453\n",
            "Validation DICE EPOCH 16: 0.0000\n",
            "------------------------------\n"
          ]
        },
        {
          "output_type": "stream",
          "name": "stderr",
          "text": [
            "100%|██████████| 29/29 [00:02<00:00, 11.79it/s]\n",
            "100%|██████████| 29/29 [00:01<00:00, 26.35it/s]\n",
            " 17%|█▋        | 17/100 [01:21<05:04,  3.67s/it]"
          ]
        },
        {
          "output_type": "stream",
          "name": "stdout",
          "text": [
            "------------------------------\n",
            "Training Loss EPOCH 17: 1.2673\n",
            "Training DICE EPOCH 17: 0.0000\n",
            "\n",
            "\n",
            "Validation Loss EPOCH 17: 1.2306\n",
            "Validation DICE EPOCH 17: 0.0000\n",
            "------------------------------\n"
          ]
        },
        {
          "output_type": "stream",
          "name": "stderr",
          "text": [
            "100%|██████████| 29/29 [00:02<00:00, 11.25it/s]\n",
            "100%|██████████| 29/29 [00:01<00:00, 25.65it/s]\n",
            " 18%|█▊        | 18/100 [01:25<05:02,  3.69s/it]"
          ]
        },
        {
          "output_type": "stream",
          "name": "stdout",
          "text": [
            "------------------------------\n",
            "Training Loss EPOCH 18: 1.2689\n",
            "Training DICE EPOCH 18: 0.0000\n",
            "\n",
            "\n",
            "Validation Loss EPOCH 18: 1.2282\n",
            "Validation DICE EPOCH 18: 0.0000\n",
            "------------------------------\n"
          ]
        },
        {
          "output_type": "stream",
          "name": "stderr",
          "text": [
            "100%|██████████| 29/29 [00:02<00:00, 11.48it/s]\n",
            "100%|██████████| 29/29 [00:01<00:00, 25.79it/s]\n",
            " 19%|█▉        | 19/100 [01:29<04:58,  3.68s/it]"
          ]
        },
        {
          "output_type": "stream",
          "name": "stdout",
          "text": [
            "------------------------------\n",
            "Training Loss EPOCH 19: 1.2241\n",
            "Training DICE EPOCH 19: 0.0000\n",
            "\n",
            "\n",
            "Validation Loss EPOCH 19: 1.1924\n",
            "Validation DICE EPOCH 19: 0.0000\n",
            "------------------------------\n"
          ]
        },
        {
          "output_type": "stream",
          "name": "stderr",
          "text": [
            "100%|██████████| 29/29 [00:02<00:00, 11.43it/s]\n",
            "100%|██████████| 29/29 [00:01<00:00, 25.41it/s]\n",
            " 20%|██        | 20/100 [01:32<04:54,  3.68s/it]"
          ]
        },
        {
          "output_type": "stream",
          "name": "stdout",
          "text": [
            "------------------------------\n",
            "Training Loss EPOCH 20: 1.2354\n",
            "Training DICE EPOCH 20: 0.0000\n",
            "\n",
            "\n",
            "Validation Loss EPOCH 20: 1.1847\n",
            "Validation DICE EPOCH 20: 0.0000\n",
            "------------------------------\n"
          ]
        },
        {
          "output_type": "stream",
          "name": "stderr",
          "text": [
            "100%|██████████| 29/29 [00:02<00:00, 11.03it/s]\n",
            "100%|██████████| 29/29 [00:01<00:00, 24.97it/s]\n",
            " 21%|██        | 21/100 [01:36<04:53,  3.72s/it]"
          ]
        },
        {
          "output_type": "stream",
          "name": "stdout",
          "text": [
            "------------------------------\n",
            "Training Loss EPOCH 21: 1.3444\n",
            "Training DICE EPOCH 21: 0.0000\n",
            "\n",
            "\n",
            "Validation Loss EPOCH 21: 1.1771\n",
            "Validation DICE EPOCH 21: 0.0000\n",
            "------------------------------\n"
          ]
        },
        {
          "output_type": "stream",
          "name": "stderr",
          "text": [
            "100%|██████████| 29/29 [00:02<00:00, 11.39it/s]\n",
            "100%|██████████| 29/29 [00:01<00:00, 25.98it/s]\n",
            " 22%|██▏       | 22/100 [01:40<04:49,  3.71s/it]"
          ]
        },
        {
          "output_type": "stream",
          "name": "stdout",
          "text": [
            "------------------------------\n",
            "Training Loss EPOCH 22: 1.2146\n",
            "Training DICE EPOCH 22: 0.0000\n",
            "\n",
            "\n",
            "Validation Loss EPOCH 22: 1.1855\n",
            "Validation DICE EPOCH 22: 0.0000\n",
            "------------------------------\n"
          ]
        },
        {
          "output_type": "stream",
          "name": "stderr",
          "text": [
            "100%|██████████| 29/29 [00:02<00:00, 11.70it/s]\n",
            "100%|██████████| 29/29 [00:01<00:00, 26.18it/s]\n",
            " 23%|██▎       | 23/100 [01:43<04:43,  3.68s/it]"
          ]
        },
        {
          "output_type": "stream",
          "name": "stdout",
          "text": [
            "------------------------------\n",
            "Training Loss EPOCH 23: 1.1596\n",
            "Training DICE EPOCH 23: 0.0000\n",
            "\n",
            "\n",
            "Validation Loss EPOCH 23: 1.1769\n",
            "Validation DICE EPOCH 23: 0.0000\n",
            "------------------------------\n"
          ]
        },
        {
          "output_type": "stream",
          "name": "stderr",
          "text": [
            "100%|██████████| 29/29 [00:02<00:00, 11.58it/s]\n",
            "100%|██████████| 29/29 [00:01<00:00, 25.11it/s]\n",
            " 24%|██▍       | 24/100 [01:47<04:39,  3.67s/it]"
          ]
        },
        {
          "output_type": "stream",
          "name": "stdout",
          "text": [
            "------------------------------\n",
            "Training Loss EPOCH 24: 1.2244\n",
            "Training DICE EPOCH 24: 0.0345\n",
            "\n",
            "\n",
            "Validation Loss EPOCH 24: 1.1767\n",
            "Validation DICE EPOCH 24: 0.0000\n",
            "------------------------------\n"
          ]
        },
        {
          "output_type": "stream",
          "name": "stderr",
          "text": [
            "100%|██████████| 29/29 [00:02<00:00, 11.40it/s]\n",
            "100%|██████████| 29/29 [00:01<00:00, 25.34it/s]\n",
            " 25%|██▌       | 25/100 [01:51<04:36,  3.68s/it]"
          ]
        },
        {
          "output_type": "stream",
          "name": "stdout",
          "text": [
            "------------------------------\n",
            "Training Loss EPOCH 25: 1.2227\n",
            "Training DICE EPOCH 25: 0.0000\n",
            "\n",
            "\n",
            "Validation Loss EPOCH 25: 1.1570\n",
            "Validation DICE EPOCH 25: 0.0000\n",
            "------------------------------\n"
          ]
        },
        {
          "output_type": "stream",
          "name": "stderr",
          "text": [
            "100%|██████████| 29/29 [00:02<00:00, 11.40it/s]\n",
            "100%|██████████| 29/29 [00:01<00:00, 25.13it/s]\n",
            " 26%|██▌       | 26/100 [01:54<04:33,  3.69s/it]"
          ]
        },
        {
          "output_type": "stream",
          "name": "stdout",
          "text": [
            "------------------------------\n",
            "Training Loss EPOCH 26: 1.2420\n",
            "Training DICE EPOCH 26: 0.0000\n",
            "\n",
            "\n",
            "Validation Loss EPOCH 26: 1.1387\n",
            "Validation DICE EPOCH 26: 0.0000\n",
            "------------------------------\n"
          ]
        },
        {
          "output_type": "stream",
          "name": "stderr",
          "text": [
            "100%|██████████| 29/29 [00:02<00:00, 11.25it/s]\n",
            "100%|██████████| 29/29 [00:01<00:00, 25.52it/s]\n",
            " 27%|██▋       | 27/100 [01:58<04:30,  3.70s/it]"
          ]
        },
        {
          "output_type": "stream",
          "name": "stdout",
          "text": [
            "------------------------------\n",
            "Training Loss EPOCH 27: 1.1692\n",
            "Training DICE EPOCH 27: 0.0000\n",
            "\n",
            "\n",
            "Validation Loss EPOCH 27: 1.1605\n",
            "Validation DICE EPOCH 27: 0.0000\n",
            "------------------------------\n"
          ]
        },
        {
          "output_type": "stream",
          "name": "stderr",
          "text": [
            "100%|██████████| 29/29 [00:02<00:00, 11.17it/s]\n",
            "100%|██████████| 29/29 [00:01<00:00, 25.18it/s]\n",
            " 28%|██▊       | 28/100 [02:02<04:27,  3.72s/it]"
          ]
        },
        {
          "output_type": "stream",
          "name": "stdout",
          "text": [
            "------------------------------\n",
            "Training Loss EPOCH 28: 1.2133\n",
            "Training DICE EPOCH 28: 0.0000\n",
            "\n",
            "\n",
            "Validation Loss EPOCH 28: 1.1595\n",
            "Validation DICE EPOCH 28: 0.0345\n",
            "------------------------------\n"
          ]
        },
        {
          "output_type": "stream",
          "name": "stderr",
          "text": [
            "100%|██████████| 29/29 [00:02<00:00, 11.41it/s]\n",
            "100%|██████████| 29/29 [00:01<00:00, 26.36it/s]\n",
            " 29%|██▉       | 29/100 [02:06<04:22,  3.70s/it]"
          ]
        },
        {
          "output_type": "stream",
          "name": "stdout",
          "text": [
            "------------------------------\n",
            "Training Loss EPOCH 29: 1.1691\n",
            "Training DICE EPOCH 29: 0.0000\n",
            "\n",
            "\n",
            "Validation Loss EPOCH 29: 1.1595\n",
            "Validation DICE EPOCH 29: 0.0000\n",
            "------------------------------\n"
          ]
        },
        {
          "output_type": "stream",
          "name": "stderr",
          "text": [
            "100%|██████████| 29/29 [00:02<00:00, 11.68it/s]\n",
            "100%|██████████| 29/29 [00:01<00:00, 25.94it/s]\n",
            " 30%|███       | 30/100 [02:09<04:17,  3.68s/it]"
          ]
        },
        {
          "output_type": "stream",
          "name": "stdout",
          "text": [
            "------------------------------\n",
            "Training Loss EPOCH 30: 1.1517\n",
            "Training DICE EPOCH 30: 0.0345\n",
            "\n",
            "\n",
            "Validation Loss EPOCH 30: 1.1364\n",
            "Validation DICE EPOCH 30: 0.0000\n",
            "------------------------------\n"
          ]
        },
        {
          "output_type": "stream",
          "name": "stderr",
          "text": [
            "100%|██████████| 29/29 [00:02<00:00, 11.41it/s]\n",
            "100%|██████████| 29/29 [00:01<00:00, 25.30it/s]\n",
            " 31%|███       | 31/100 [02:13<04:14,  3.68s/it]"
          ]
        },
        {
          "output_type": "stream",
          "name": "stdout",
          "text": [
            "------------------------------\n",
            "Training Loss EPOCH 31: 1.1491\n",
            "Training DICE EPOCH 31: 0.0000\n",
            "\n",
            "\n",
            "Validation Loss EPOCH 31: 1.1280\n",
            "Validation DICE EPOCH 31: 0.0345\n",
            "------------------------------\n"
          ]
        },
        {
          "output_type": "stream",
          "name": "stderr",
          "text": [
            "100%|██████████| 29/29 [00:02<00:00, 11.36it/s]\n",
            "100%|██████████| 29/29 [00:01<00:00, 25.72it/s]\n",
            " 32%|███▏      | 32/100 [02:17<04:10,  3.69s/it]"
          ]
        },
        {
          "output_type": "stream",
          "name": "stdout",
          "text": [
            "------------------------------\n",
            "Training Loss EPOCH 32: 1.2019\n",
            "Training DICE EPOCH 32: 0.0345\n",
            "\n",
            "\n",
            "Validation Loss EPOCH 32: 1.1241\n",
            "Validation DICE EPOCH 32: 0.0000\n",
            "------------------------------\n"
          ]
        },
        {
          "output_type": "stream",
          "name": "stderr",
          "text": [
            "100%|██████████| 29/29 [00:02<00:00, 11.06it/s]\n",
            "100%|██████████| 29/29 [00:01<00:00, 25.20it/s]\n",
            " 33%|███▎      | 33/100 [02:20<04:09,  3.72s/it]"
          ]
        },
        {
          "output_type": "stream",
          "name": "stdout",
          "text": [
            "------------------------------\n",
            "Training Loss EPOCH 33: 1.3307\n",
            "Training DICE EPOCH 33: 0.0000\n",
            "\n",
            "\n",
            "Validation Loss EPOCH 33: 1.1104\n",
            "Validation DICE EPOCH 33: 0.0000\n",
            "------------------------------\n"
          ]
        },
        {
          "output_type": "stream",
          "name": "stderr",
          "text": [
            "100%|██████████| 29/29 [00:02<00:00, 11.32it/s]\n",
            "100%|██████████| 29/29 [00:01<00:00, 25.29it/s]\n",
            " 34%|███▍      | 34/100 [02:24<04:05,  3.72s/it]"
          ]
        },
        {
          "output_type": "stream",
          "name": "stdout",
          "text": [
            "------------------------------\n",
            "Training Loss EPOCH 34: 1.2457\n",
            "Training DICE EPOCH 34: 0.0000\n",
            "\n",
            "\n",
            "Validation Loss EPOCH 34: 1.1384\n",
            "Validation DICE EPOCH 34: 0.0000\n",
            "------------------------------\n"
          ]
        },
        {
          "output_type": "stream",
          "name": "stderr",
          "text": [
            "100%|██████████| 29/29 [00:02<00:00, 11.26it/s]\n",
            "100%|██████████| 29/29 [00:01<00:00, 26.70it/s]\n",
            " 35%|███▌      | 35/100 [02:28<04:00,  3.71s/it]"
          ]
        },
        {
          "output_type": "stream",
          "name": "stdout",
          "text": [
            "------------------------------\n",
            "Training Loss EPOCH 35: 1.2184\n",
            "Training DICE EPOCH 35: 0.0000\n",
            "\n",
            "\n",
            "Validation Loss EPOCH 35: 1.1306\n",
            "Validation DICE EPOCH 35: 0.0345\n",
            "------------------------------\n"
          ]
        },
        {
          "output_type": "stream",
          "name": "stderr",
          "text": [
            "100%|██████████| 29/29 [00:02<00:00, 11.70it/s]\n",
            "100%|██████████| 29/29 [00:01<00:00, 26.11it/s]\n",
            " 36%|███▌      | 36/100 [02:31<03:55,  3.68s/it]"
          ]
        },
        {
          "output_type": "stream",
          "name": "stdout",
          "text": [
            "------------------------------\n",
            "Training Loss EPOCH 36: 1.2437\n",
            "Training DICE EPOCH 36: 0.0000\n",
            "\n",
            "\n",
            "Validation Loss EPOCH 36: 1.1391\n",
            "Validation DICE EPOCH 36: 0.0000\n",
            "------------------------------\n"
          ]
        },
        {
          "output_type": "stream",
          "name": "stderr",
          "text": [
            "100%|██████████| 29/29 [00:02<00:00, 11.45it/s]\n",
            "100%|██████████| 29/29 [00:01<00:00, 25.41it/s]\n",
            " 37%|███▋      | 37/100 [02:35<03:51,  3.68s/it]"
          ]
        },
        {
          "output_type": "stream",
          "name": "stdout",
          "text": [
            "------------------------------\n",
            "Training Loss EPOCH 37: 1.2579\n",
            "Training DICE EPOCH 37: 0.0000\n",
            "\n",
            "\n",
            "Validation Loss EPOCH 37: 1.1322\n",
            "Validation DICE EPOCH 37: 0.0000\n",
            "------------------------------\n"
          ]
        },
        {
          "output_type": "stream",
          "name": "stderr",
          "text": [
            "100%|██████████| 29/29 [00:02<00:00, 11.33it/s]\n",
            "100%|██████████| 29/29 [00:01<00:00, 24.94it/s]\n",
            " 38%|███▊      | 38/100 [02:39<03:49,  3.70s/it]"
          ]
        },
        {
          "output_type": "stream",
          "name": "stdout",
          "text": [
            "------------------------------\n",
            "Training Loss EPOCH 38: 1.2194\n",
            "Training DICE EPOCH 38: 0.0000\n",
            "\n",
            "\n",
            "Validation Loss EPOCH 38: 1.1233\n",
            "Validation DICE EPOCH 38: 0.0000\n",
            "------------------------------\n"
          ]
        },
        {
          "output_type": "stream",
          "name": "stderr",
          "text": [
            "100%|██████████| 29/29 [00:02<00:00, 11.44it/s]\n",
            "100%|██████████| 29/29 [00:01<00:00, 25.27it/s]\n",
            " 39%|███▉      | 39/100 [02:43<03:45,  3.70s/it]"
          ]
        },
        {
          "output_type": "stream",
          "name": "stdout",
          "text": [
            "------------------------------\n",
            "Training Loss EPOCH 39: 1.2040\n",
            "Training DICE EPOCH 39: 0.0000\n",
            "\n",
            "\n",
            "Validation Loss EPOCH 39: 1.1440\n",
            "Validation DICE EPOCH 39: 0.0000\n",
            "------------------------------\n"
          ]
        },
        {
          "output_type": "stream",
          "name": "stderr",
          "text": [
            "100%|██████████| 29/29 [00:02<00:00, 11.02it/s]\n",
            "100%|██████████| 29/29 [00:01<00:00, 25.34it/s]\n",
            " 40%|████      | 40/100 [02:46<03:43,  3.73s/it]"
          ]
        },
        {
          "output_type": "stream",
          "name": "stdout",
          "text": [
            "------------------------------\n",
            "Training Loss EPOCH 40: 1.1561\n",
            "Training DICE EPOCH 40: 0.0000\n",
            "\n",
            "\n",
            "Validation Loss EPOCH 40: 1.1381\n",
            "Validation DICE EPOCH 40: 0.0000\n",
            "------------------------------\n"
          ]
        },
        {
          "output_type": "stream",
          "name": "stderr",
          "text": [
            "100%|██████████| 29/29 [00:02<00:00, 11.36it/s]\n",
            "100%|██████████| 29/29 [00:01<00:00, 26.08it/s]\n",
            " 41%|████      | 41/100 [02:50<03:39,  3.71s/it]"
          ]
        },
        {
          "output_type": "stream",
          "name": "stdout",
          "text": [
            "------------------------------\n",
            "Training Loss EPOCH 41: 1.2231\n",
            "Training DICE EPOCH 41: 0.0345\n",
            "\n",
            "\n",
            "Validation Loss EPOCH 41: 1.1172\n",
            "Validation DICE EPOCH 41: 0.0000\n",
            "------------------------------\n"
          ]
        },
        {
          "output_type": "stream",
          "name": "stderr",
          "text": [
            "100%|██████████| 29/29 [00:02<00:00, 11.41it/s]\n",
            "100%|██████████| 29/29 [00:01<00:00, 25.70it/s]\n",
            " 42%|████▏     | 42/100 [02:54<03:34,  3.70s/it]"
          ]
        },
        {
          "output_type": "stream",
          "name": "stdout",
          "text": [
            "------------------------------\n",
            "Training Loss EPOCH 42: 1.2177\n",
            "Training DICE EPOCH 42: 0.0000\n",
            "\n",
            "\n",
            "Validation Loss EPOCH 42: 1.1367\n",
            "Validation DICE EPOCH 42: 0.0000\n",
            "------------------------------\n"
          ]
        },
        {
          "output_type": "stream",
          "name": "stderr",
          "text": [
            "100%|██████████| 29/29 [00:02<00:00, 11.47it/s]\n",
            "100%|██████████| 29/29 [00:01<00:00, 25.34it/s]\n",
            " 43%|████▎     | 43/100 [02:57<03:30,  3.70s/it]"
          ]
        },
        {
          "output_type": "stream",
          "name": "stdout",
          "text": [
            "------------------------------\n",
            "Training Loss EPOCH 43: 1.1778\n",
            "Training DICE EPOCH 43: 0.0000\n",
            "\n",
            "\n",
            "Validation Loss EPOCH 43: 1.1188\n",
            "Validation DICE EPOCH 43: 0.0000\n",
            "------------------------------\n"
          ]
        },
        {
          "output_type": "stream",
          "name": "stderr",
          "text": [
            "100%|██████████| 29/29 [00:02<00:00, 11.46it/s]\n",
            "100%|██████████| 29/29 [00:01<00:00, 24.84it/s]\n",
            " 44%|████▍     | 44/100 [03:01<03:27,  3.70s/it]"
          ]
        },
        {
          "output_type": "stream",
          "name": "stdout",
          "text": [
            "------------------------------\n",
            "Training Loss EPOCH 44: 1.2133\n",
            "Training DICE EPOCH 44: 0.0345\n",
            "\n",
            "\n",
            "Validation Loss EPOCH 44: 1.1224\n",
            "Validation DICE EPOCH 44: 0.0000\n",
            "------------------------------\n"
          ]
        },
        {
          "output_type": "stream",
          "name": "stderr",
          "text": [
            "100%|██████████| 29/29 [00:02<00:00, 11.24it/s]\n",
            "100%|██████████| 29/29 [00:01<00:00, 24.99it/s]\n",
            " 45%|████▌     | 45/100 [03:05<03:24,  3.72s/it]"
          ]
        },
        {
          "output_type": "stream",
          "name": "stdout",
          "text": [
            "------------------------------\n",
            "Training Loss EPOCH 45: 1.1338\n",
            "Training DICE EPOCH 45: 0.0345\n",
            "\n",
            "\n",
            "Validation Loss EPOCH 45: 1.1321\n",
            "Validation DICE EPOCH 45: 0.0000\n",
            "------------------------------\n"
          ]
        },
        {
          "output_type": "stream",
          "name": "stderr",
          "text": [
            "100%|██████████| 29/29 [00:02<00:00, 11.17it/s]\n",
            "100%|██████████| 29/29 [00:01<00:00, 25.11it/s]\n",
            " 46%|████▌     | 46/100 [03:09<03:21,  3.73s/it]"
          ]
        },
        {
          "output_type": "stream",
          "name": "stdout",
          "text": [
            "------------------------------\n",
            "Training Loss EPOCH 46: 1.1773\n",
            "Training DICE EPOCH 46: 0.0000\n",
            "\n",
            "\n",
            "Validation Loss EPOCH 46: 1.1364\n",
            "Validation DICE EPOCH 46: 0.0000\n",
            "------------------------------\n"
          ]
        },
        {
          "output_type": "stream",
          "name": "stderr",
          "text": [
            "100%|██████████| 29/29 [00:02<00:00, 11.39it/s]\n",
            "100%|██████████| 29/29 [00:01<00:00, 26.67it/s]\n",
            " 47%|████▋     | 47/100 [03:12<03:16,  3.71s/it]"
          ]
        },
        {
          "output_type": "stream",
          "name": "stdout",
          "text": [
            "------------------------------\n",
            "Training Loss EPOCH 47: 1.2197\n",
            "Training DICE EPOCH 47: 0.0345\n",
            "\n",
            "\n",
            "Validation Loss EPOCH 47: 1.1174\n",
            "Validation DICE EPOCH 47: 0.0000\n",
            "------------------------------\n"
          ]
        },
        {
          "output_type": "stream",
          "name": "stderr",
          "text": [
            "100%|██████████| 29/29 [00:02<00:00, 11.68it/s]\n",
            "100%|██████████| 29/29 [00:01<00:00, 25.43it/s]\n",
            " 48%|████▊     | 48/100 [03:16<03:11,  3.69s/it]"
          ]
        },
        {
          "output_type": "stream",
          "name": "stdout",
          "text": [
            "------------------------------\n",
            "Training Loss EPOCH 48: 1.1892\n",
            "Training DICE EPOCH 48: 0.0000\n",
            "\n",
            "\n",
            "Validation Loss EPOCH 48: 1.1274\n",
            "Validation DICE EPOCH 48: 0.0000\n",
            "------------------------------\n"
          ]
        },
        {
          "output_type": "stream",
          "name": "stderr",
          "text": [
            "100%|██████████| 29/29 [00:02<00:00, 11.46it/s]\n",
            "100%|██████████| 29/29 [00:01<00:00, 25.56it/s]\n",
            " 49%|████▉     | 49/100 [03:20<03:07,  3.69s/it]"
          ]
        },
        {
          "output_type": "stream",
          "name": "stdout",
          "text": [
            "------------------------------\n",
            "Training Loss EPOCH 49: 1.1828\n",
            "Training DICE EPOCH 49: 0.0000\n",
            "\n",
            "\n",
            "Validation Loss EPOCH 49: 1.1215\n",
            "Validation DICE EPOCH 49: 0.0345\n",
            "------------------------------\n"
          ]
        },
        {
          "output_type": "stream",
          "name": "stderr",
          "text": [
            "100%|██████████| 29/29 [00:02<00:00, 11.42it/s]\n",
            "100%|██████████| 29/29 [00:01<00:00, 25.45it/s]\n",
            " 50%|█████     | 50/100 [03:23<03:04,  3.69s/it]"
          ]
        },
        {
          "output_type": "stream",
          "name": "stdout",
          "text": [
            "------------------------------\n",
            "Training Loss EPOCH 50: 1.1883\n",
            "Training DICE EPOCH 50: 0.0000\n",
            "\n",
            "\n",
            "Validation Loss EPOCH 50: 1.1278\n",
            "Validation DICE EPOCH 50: 0.0000\n",
            "------------------------------\n"
          ]
        },
        {
          "output_type": "stream",
          "name": "stderr",
          "text": [
            "100%|██████████| 29/29 [00:02<00:00, 11.34it/s]\n",
            "100%|██████████| 29/29 [00:01<00:00, 25.20it/s]\n",
            " 51%|█████     | 51/100 [03:27<03:01,  3.70s/it]"
          ]
        },
        {
          "output_type": "stream",
          "name": "stdout",
          "text": [
            "------------------------------\n",
            "Training Loss EPOCH 51: 1.2085\n",
            "Training DICE EPOCH 51: 0.0345\n",
            "\n",
            "\n",
            "Validation Loss EPOCH 51: 1.1222\n",
            "Validation DICE EPOCH 51: 0.0000\n",
            "------------------------------\n"
          ]
        },
        {
          "output_type": "stream",
          "name": "stderr",
          "text": [
            "100%|██████████| 29/29 [00:02<00:00, 10.90it/s]\n",
            "100%|██████████| 29/29 [00:01<00:00, 25.46it/s]\n",
            " 52%|█████▏    | 52/100 [03:31<02:59,  3.73s/it]"
          ]
        },
        {
          "output_type": "stream",
          "name": "stdout",
          "text": [
            "------------------------------\n",
            "Training Loss EPOCH 52: 1.2123\n",
            "Training DICE EPOCH 52: 0.0000\n",
            "\n",
            "\n",
            "Validation Loss EPOCH 52: 1.1057\n",
            "Validation DICE EPOCH 52: 0.0000\n",
            "------------------------------\n"
          ]
        },
        {
          "output_type": "stream",
          "name": "stderr",
          "text": [
            "100%|██████████| 29/29 [00:02<00:00, 11.45it/s]\n",
            "100%|██████████| 29/29 [00:01<00:00, 25.88it/s]\n",
            " 53%|█████▎    | 53/100 [03:35<02:54,  3.71s/it]"
          ]
        },
        {
          "output_type": "stream",
          "name": "stdout",
          "text": [
            "------------------------------\n",
            "Training Loss EPOCH 53: 1.2488\n",
            "Training DICE EPOCH 53: 0.0000\n",
            "\n",
            "\n",
            "Validation Loss EPOCH 53: 1.1256\n",
            "Validation DICE EPOCH 53: 0.0000\n",
            "------------------------------\n"
          ]
        },
        {
          "output_type": "stream",
          "name": "stderr",
          "text": [
            "100%|██████████| 29/29 [00:02<00:00, 11.71it/s]\n",
            "100%|██████████| 29/29 [00:01<00:00, 26.45it/s]\n",
            " 54%|█████▍    | 54/100 [03:38<02:49,  3.68s/it]"
          ]
        },
        {
          "output_type": "stream",
          "name": "stdout",
          "text": [
            "------------------------------\n",
            "Training Loss EPOCH 54: 1.1710\n",
            "Training DICE EPOCH 54: 0.0000\n",
            "\n",
            "\n",
            "Validation Loss EPOCH 54: 1.1149\n",
            "Validation DICE EPOCH 54: 0.0000\n",
            "------------------------------\n"
          ]
        },
        {
          "output_type": "stream",
          "name": "stderr",
          "text": [
            "100%|██████████| 29/29 [00:02<00:00, 11.50it/s]\n",
            "100%|██████████| 29/29 [00:01<00:00, 25.03it/s]\n",
            " 55%|█████▌    | 55/100 [03:42<02:45,  3.68s/it]"
          ]
        },
        {
          "output_type": "stream",
          "name": "stdout",
          "text": [
            "------------------------------\n",
            "Training Loss EPOCH 55: 1.2337\n",
            "Training DICE EPOCH 55: 0.0345\n",
            "\n",
            "\n",
            "Validation Loss EPOCH 55: 1.1191\n",
            "Validation DICE EPOCH 55: 0.0000\n",
            "------------------------------\n"
          ]
        },
        {
          "output_type": "stream",
          "name": "stderr",
          "text": [
            "100%|██████████| 29/29 [00:02<00:00, 11.33it/s]\n",
            "100%|██████████| 29/29 [00:01<00:00, 24.96it/s]\n",
            " 56%|█████▌    | 56/100 [03:46<02:42,  3.70s/it]"
          ]
        },
        {
          "output_type": "stream",
          "name": "stdout",
          "text": [
            "------------------------------\n",
            "Training Loss EPOCH 56: 1.1745\n",
            "Training DICE EPOCH 56: 0.0000\n",
            "\n",
            "\n",
            "Validation Loss EPOCH 56: 1.1285\n",
            "Validation DICE EPOCH 56: 0.0000\n",
            "------------------------------\n"
          ]
        },
        {
          "output_type": "stream",
          "name": "stderr",
          "text": [
            "100%|██████████| 29/29 [00:02<00:00, 11.41it/s]\n",
            "100%|██████████| 29/29 [00:01<00:00, 25.66it/s]\n",
            " 57%|█████▋    | 57/100 [03:49<02:38,  3.70s/it]"
          ]
        },
        {
          "output_type": "stream",
          "name": "stdout",
          "text": [
            "------------------------------\n",
            "Training Loss EPOCH 57: 1.1925\n",
            "Training DICE EPOCH 57: 0.0000\n",
            "\n",
            "\n",
            "Validation Loss EPOCH 57: 1.1171\n",
            "Validation DICE EPOCH 57: 0.0000\n",
            "------------------------------\n"
          ]
        },
        {
          "output_type": "stream",
          "name": "stderr",
          "text": [
            "100%|██████████| 29/29 [00:02<00:00, 11.25it/s]\n",
            "100%|██████████| 29/29 [00:01<00:00, 25.27it/s]\n",
            " 58%|█████▊    | 58/100 [03:53<02:35,  3.71s/it]"
          ]
        },
        {
          "output_type": "stream",
          "name": "stdout",
          "text": [
            "------------------------------\n",
            "Training Loss EPOCH 58: 1.2748\n",
            "Training DICE EPOCH 58: 0.0000\n",
            "\n",
            "\n",
            "Validation Loss EPOCH 58: 1.1240\n",
            "Validation DICE EPOCH 58: 0.0000\n",
            "------------------------------\n"
          ]
        },
        {
          "output_type": "stream",
          "name": "stderr",
          "text": [
            "100%|██████████| 29/29 [00:02<00:00, 11.18it/s]\n",
            "100%|██████████| 29/29 [00:01<00:00, 25.92it/s]\n",
            " 59%|█████▉    | 59/100 [03:57<02:32,  3.71s/it]"
          ]
        },
        {
          "output_type": "stream",
          "name": "stdout",
          "text": [
            "------------------------------\n",
            "Training Loss EPOCH 59: 1.1799\n",
            "Training DICE EPOCH 59: 0.0345\n",
            "\n",
            "\n",
            "Validation Loss EPOCH 59: 1.1217\n",
            "Validation DICE EPOCH 59: 0.0000\n",
            "------------------------------\n"
          ]
        },
        {
          "output_type": "stream",
          "name": "stderr",
          "text": [
            "100%|██████████| 29/29 [00:02<00:00, 11.81it/s]\n",
            "100%|██████████| 29/29 [00:01<00:00, 25.69it/s]\n",
            " 60%|██████    | 60/100 [04:00<02:27,  3.68s/it]"
          ]
        },
        {
          "output_type": "stream",
          "name": "stdout",
          "text": [
            "------------------------------\n",
            "Training Loss EPOCH 60: 1.1298\n",
            "Training DICE EPOCH 60: 0.0000\n",
            "\n",
            "\n",
            "Validation Loss EPOCH 60: 1.1140\n",
            "Validation DICE EPOCH 60: 0.0000\n",
            "------------------------------\n"
          ]
        },
        {
          "output_type": "stream",
          "name": "stderr",
          "text": [
            "100%|██████████| 29/29 [00:02<00:00, 11.46it/s]\n",
            "100%|██████████| 29/29 [00:01<00:00, 25.36it/s]\n",
            " 61%|██████    | 61/100 [04:04<02:23,  3.68s/it]"
          ]
        },
        {
          "output_type": "stream",
          "name": "stdout",
          "text": [
            "------------------------------\n",
            "Training Loss EPOCH 61: 1.1842\n",
            "Training DICE EPOCH 61: 0.0000\n",
            "\n",
            "\n",
            "Validation Loss EPOCH 61: 1.1317\n",
            "Validation DICE EPOCH 61: 0.0000\n",
            "------------------------------\n"
          ]
        },
        {
          "output_type": "stream",
          "name": "stderr",
          "text": [
            "100%|██████████| 29/29 [00:02<00:00, 11.34it/s]\n",
            "100%|██████████| 29/29 [00:01<00:00, 25.06it/s]\n",
            " 62%|██████▏   | 62/100 [04:08<02:20,  3.70s/it]"
          ]
        },
        {
          "output_type": "stream",
          "name": "stdout",
          "text": [
            "------------------------------\n",
            "Training Loss EPOCH 62: 1.3250\n",
            "Training DICE EPOCH 62: 0.0000\n",
            "\n",
            "\n",
            "Validation Loss EPOCH 62: 1.1089\n",
            "Validation DICE EPOCH 62: 0.0000\n",
            "------------------------------\n"
          ]
        },
        {
          "output_type": "stream",
          "name": "stderr",
          "text": [
            "100%|██████████| 29/29 [00:02<00:00, 11.25it/s]\n",
            "100%|██████████| 29/29 [00:01<00:00, 24.83it/s]\n",
            " 63%|██████▎   | 63/100 [04:11<02:17,  3.72s/it]"
          ]
        },
        {
          "output_type": "stream",
          "name": "stdout",
          "text": [
            "------------------------------\n",
            "Training Loss EPOCH 63: 1.2038\n",
            "Training DICE EPOCH 63: 0.0000\n",
            "\n",
            "\n",
            "Validation Loss EPOCH 63: 1.1155\n",
            "Validation DICE EPOCH 63: 0.0000\n",
            "------------------------------\n"
          ]
        },
        {
          "output_type": "stream",
          "name": "stderr",
          "text": [
            "100%|██████████| 29/29 [00:02<00:00, 11.24it/s]\n",
            "100%|██████████| 29/29 [00:01<00:00, 25.21it/s]\n",
            " 64%|██████▍   | 64/100 [04:15<02:14,  3.72s/it]"
          ]
        },
        {
          "output_type": "stream",
          "name": "stdout",
          "text": [
            "------------------------------\n",
            "Training Loss EPOCH 64: 1.2204\n",
            "Training DICE EPOCH 64: 0.0000\n",
            "\n",
            "\n",
            "Validation Loss EPOCH 64: 1.1209\n",
            "Validation DICE EPOCH 64: 0.0000\n",
            "------------------------------\n"
          ]
        },
        {
          "output_type": "stream",
          "name": "stderr",
          "text": [
            "100%|██████████| 29/29 [00:02<00:00, 11.39it/s]\n",
            "100%|██████████| 29/29 [00:01<00:00, 26.52it/s]\n",
            " 65%|██████▌   | 65/100 [04:19<02:09,  3.70s/it]"
          ]
        },
        {
          "output_type": "stream",
          "name": "stdout",
          "text": [
            "------------------------------\n",
            "Training Loss EPOCH 65: 1.1800\n",
            "Training DICE EPOCH 65: 0.0345\n",
            "\n",
            "\n",
            "Validation Loss EPOCH 65: 1.1102\n",
            "Validation DICE EPOCH 65: 0.0000\n",
            "------------------------------\n"
          ]
        },
        {
          "output_type": "stream",
          "name": "stderr",
          "text": [
            "100%|██████████| 29/29 [00:02<00:00, 11.45it/s]\n",
            "100%|██████████| 29/29 [00:01<00:00, 26.23it/s]\n",
            " 66%|██████▌   | 66/100 [04:23<02:05,  3.69s/it]"
          ]
        },
        {
          "output_type": "stream",
          "name": "stdout",
          "text": [
            "------------------------------\n",
            "Training Loss EPOCH 66: 1.2505\n",
            "Training DICE EPOCH 66: 0.0345\n",
            "\n",
            "\n",
            "Validation Loss EPOCH 66: 1.1133\n",
            "Validation DICE EPOCH 66: 0.0000\n",
            "------------------------------\n"
          ]
        },
        {
          "output_type": "stream",
          "name": "stderr",
          "text": [
            "100%|██████████| 29/29 [00:02<00:00, 11.41it/s]\n",
            "100%|██████████| 29/29 [00:01<00:00, 25.70it/s]\n",
            " 67%|██████▋   | 67/100 [04:26<02:01,  3.69s/it]"
          ]
        },
        {
          "output_type": "stream",
          "name": "stdout",
          "text": [
            "------------------------------\n",
            "Training Loss EPOCH 67: 1.2904\n",
            "Training DICE EPOCH 67: 0.0000\n",
            "\n",
            "\n",
            "Validation Loss EPOCH 67: 1.1258\n",
            "Validation DICE EPOCH 67: 0.0345\n",
            "------------------------------\n"
          ]
        },
        {
          "output_type": "stream",
          "name": "stderr",
          "text": [
            "100%|██████████| 29/29 [00:02<00:00, 11.49it/s]\n",
            "100%|██████████| 29/29 [00:01<00:00, 25.71it/s]\n",
            " 68%|██████▊   | 68/100 [04:30<01:57,  3.68s/it]"
          ]
        },
        {
          "output_type": "stream",
          "name": "stdout",
          "text": [
            "------------------------------\n",
            "Training Loss EPOCH 68: 1.1738\n",
            "Training DICE EPOCH 68: 0.0000\n",
            "\n",
            "\n",
            "Validation Loss EPOCH 68: 1.1114\n",
            "Validation DICE EPOCH 68: 0.0000\n",
            "------------------------------\n"
          ]
        },
        {
          "output_type": "stream",
          "name": "stderr",
          "text": [
            "100%|██████████| 29/29 [00:02<00:00, 11.29it/s]\n",
            "100%|██████████| 29/29 [00:01<00:00, 25.02it/s]\n",
            " 69%|██████▉   | 69/100 [04:34<01:54,  3.70s/it]"
          ]
        },
        {
          "output_type": "stream",
          "name": "stdout",
          "text": [
            "------------------------------\n",
            "Training Loss EPOCH 69: 1.2057\n",
            "Training DICE EPOCH 69: 0.0000\n",
            "\n",
            "\n",
            "Validation Loss EPOCH 69: 1.1204\n",
            "Validation DICE EPOCH 69: 0.0000\n",
            "------------------------------\n"
          ]
        },
        {
          "output_type": "stream",
          "name": "stderr",
          "text": [
            "100%|██████████| 29/29 [00:02<00:00, 11.28it/s]\n",
            "100%|██████████| 29/29 [00:01<00:00, 25.24it/s]\n",
            " 70%|███████   | 70/100 [04:37<01:51,  3.71s/it]"
          ]
        },
        {
          "output_type": "stream",
          "name": "stdout",
          "text": [
            "------------------------------\n",
            "Training Loss EPOCH 70: 1.2066\n",
            "Training DICE EPOCH 70: 0.0345\n",
            "\n",
            "\n",
            "Validation Loss EPOCH 70: 1.1161\n",
            "Validation DICE EPOCH 70: 0.0000\n",
            "------------------------------\n"
          ]
        },
        {
          "output_type": "stream",
          "name": "stderr",
          "text": [
            "100%|██████████| 29/29 [00:02<00:00, 11.46it/s]\n",
            "100%|██████████| 29/29 [00:01<00:00, 26.30it/s]\n",
            " 71%|███████   | 71/100 [04:41<01:47,  3.69s/it]"
          ]
        },
        {
          "output_type": "stream",
          "name": "stdout",
          "text": [
            "------------------------------\n",
            "Training Loss EPOCH 71: 1.2141\n",
            "Training DICE EPOCH 71: 0.0000\n",
            "\n",
            "\n",
            "Validation Loss EPOCH 71: 1.1253\n",
            "Validation DICE EPOCH 71: 0.0345\n",
            "------------------------------\n"
          ]
        },
        {
          "output_type": "stream",
          "name": "stderr",
          "text": [
            "100%|██████████| 29/29 [00:02<00:00, 11.72it/s]\n",
            "100%|██████████| 29/29 [00:01<00:00, 25.82it/s]\n",
            " 72%|███████▏  | 72/100 [04:45<01:42,  3.67s/it]"
          ]
        },
        {
          "output_type": "stream",
          "name": "stdout",
          "text": [
            "------------------------------\n",
            "Training Loss EPOCH 72: 1.2067\n",
            "Training DICE EPOCH 72: 0.0000\n",
            "\n",
            "\n",
            "Validation Loss EPOCH 72: 1.1071\n",
            "Validation DICE EPOCH 72: 0.0000\n",
            "------------------------------\n"
          ]
        },
        {
          "output_type": "stream",
          "name": "stderr",
          "text": [
            "100%|██████████| 29/29 [00:02<00:00, 11.37it/s]\n",
            "100%|██████████| 29/29 [00:01<00:00, 25.80it/s]\n",
            " 73%|███████▎  | 73/100 [04:48<01:39,  3.67s/it]"
          ]
        },
        {
          "output_type": "stream",
          "name": "stdout",
          "text": [
            "------------------------------\n",
            "Training Loss EPOCH 73: 1.3169\n",
            "Training DICE EPOCH 73: 0.0000\n",
            "\n",
            "\n",
            "Validation Loss EPOCH 73: 1.1147\n",
            "Validation DICE EPOCH 73: 0.0000\n",
            "------------------------------\n"
          ]
        },
        {
          "output_type": "stream",
          "name": "stderr",
          "text": [
            "100%|██████████| 29/29 [00:02<00:00, 11.40it/s]\n",
            "100%|██████████| 29/29 [00:01<00:00, 25.74it/s]\n",
            " 74%|███████▍  | 74/100 [04:52<01:35,  3.68s/it]"
          ]
        },
        {
          "output_type": "stream",
          "name": "stdout",
          "text": [
            "------------------------------\n",
            "Training Loss EPOCH 74: 1.2235\n",
            "Training DICE EPOCH 74: 0.0000\n",
            "\n",
            "\n",
            "Validation Loss EPOCH 74: 1.1366\n",
            "Validation DICE EPOCH 74: 0.0000\n",
            "------------------------------\n"
          ]
        },
        {
          "output_type": "stream",
          "name": "stderr",
          "text": [
            "100%|██████████| 29/29 [00:02<00:00, 11.38it/s]\n",
            "100%|██████████| 29/29 [00:01<00:00, 25.52it/s]\n",
            " 75%|███████▌  | 75/100 [04:56<01:32,  3.68s/it]"
          ]
        },
        {
          "output_type": "stream",
          "name": "stdout",
          "text": [
            "------------------------------\n",
            "Training Loss EPOCH 75: 1.2177\n",
            "Training DICE EPOCH 75: 0.0000\n",
            "\n",
            "\n",
            "Validation Loss EPOCH 75: 1.1193\n",
            "Validation DICE EPOCH 75: 0.0000\n",
            "------------------------------\n"
          ]
        },
        {
          "output_type": "stream",
          "name": "stderr",
          "text": [
            "100%|██████████| 29/29 [00:02<00:00, 11.38it/s]\n",
            "100%|██████████| 29/29 [00:01<00:00, 25.09it/s]\n",
            " 76%|███████▌  | 76/100 [04:59<01:28,  3.69s/it]"
          ]
        },
        {
          "output_type": "stream",
          "name": "stdout",
          "text": [
            "------------------------------\n",
            "Training Loss EPOCH 76: 1.2870\n",
            "Training DICE EPOCH 76: 0.0000\n",
            "\n",
            "\n",
            "Validation Loss EPOCH 76: 1.1236\n",
            "Validation DICE EPOCH 76: 0.0000\n",
            "------------------------------\n"
          ]
        },
        {
          "output_type": "stream",
          "name": "stderr",
          "text": [
            "100%|██████████| 29/29 [00:02<00:00, 11.37it/s]\n",
            "100%|██████████| 29/29 [00:01<00:00, 26.82it/s]\n",
            " 77%|███████▋  | 77/100 [05:03<01:24,  3.68s/it]"
          ]
        },
        {
          "output_type": "stream",
          "name": "stdout",
          "text": [
            "------------------------------\n",
            "Training Loss EPOCH 77: 1.2258\n",
            "Training DICE EPOCH 77: 0.0000\n",
            "\n",
            "\n",
            "Validation Loss EPOCH 77: 1.1192\n",
            "Validation DICE EPOCH 77: 0.0000\n",
            "------------------------------\n"
          ]
        },
        {
          "output_type": "stream",
          "name": "stderr",
          "text": [
            "100%|██████████| 29/29 [00:02<00:00, 11.52it/s]\n",
            "100%|██████████| 29/29 [00:01<00:00, 25.79it/s]\n",
            " 78%|███████▊  | 78/100 [05:07<01:20,  3.67s/it]"
          ]
        },
        {
          "output_type": "stream",
          "name": "stdout",
          "text": [
            "------------------------------\n",
            "Training Loss EPOCH 78: 1.2588\n",
            "Training DICE EPOCH 78: 0.0000\n",
            "\n",
            "\n",
            "Validation Loss EPOCH 78: 1.1364\n",
            "Validation DICE EPOCH 78: 0.0345\n",
            "------------------------------\n"
          ]
        },
        {
          "output_type": "stream",
          "name": "stderr",
          "text": [
            "100%|██████████| 29/29 [00:02<00:00, 11.45it/s]\n",
            "100%|██████████| 29/29 [00:01<00:00, 25.11it/s]\n",
            " 79%|███████▉  | 79/100 [05:10<01:17,  3.68s/it]"
          ]
        },
        {
          "output_type": "stream",
          "name": "stdout",
          "text": [
            "------------------------------\n",
            "Training Loss EPOCH 79: 1.1777\n",
            "Training DICE EPOCH 79: 0.0690\n",
            "\n",
            "\n",
            "Validation Loss EPOCH 79: 1.1502\n",
            "Validation DICE EPOCH 79: 0.0000\n",
            "------------------------------\n"
          ]
        },
        {
          "output_type": "stream",
          "name": "stderr",
          "text": [
            "100%|██████████| 29/29 [00:02<00:00, 11.41it/s]\n",
            "100%|██████████| 29/29 [00:01<00:00, 25.25it/s]\n",
            " 80%|████████  | 80/100 [05:14<01:13,  3.69s/it]"
          ]
        },
        {
          "output_type": "stream",
          "name": "stdout",
          "text": [
            "------------------------------\n",
            "Training Loss EPOCH 80: 1.1648\n",
            "Training DICE EPOCH 80: 0.0345\n",
            "\n",
            "\n",
            "Validation Loss EPOCH 80: 1.1345\n",
            "Validation DICE EPOCH 80: 0.0000\n",
            "------------------------------\n"
          ]
        },
        {
          "output_type": "stream",
          "name": "stderr",
          "text": [
            "100%|██████████| 29/29 [00:02<00:00, 11.29it/s]\n",
            "100%|██████████| 29/29 [00:01<00:00, 25.36it/s]\n",
            " 81%|████████  | 81/100 [05:18<01:10,  3.70s/it]"
          ]
        },
        {
          "output_type": "stream",
          "name": "stdout",
          "text": [
            "------------------------------\n",
            "Training Loss EPOCH 81: 1.1004\n",
            "Training DICE EPOCH 81: 0.0000\n",
            "\n",
            "\n",
            "Validation Loss EPOCH 81: 1.1200\n",
            "Validation DICE EPOCH 81: 0.0000\n",
            "------------------------------\n"
          ]
        },
        {
          "output_type": "stream",
          "name": "stderr",
          "text": [
            "100%|██████████| 29/29 [00:02<00:00, 11.47it/s]\n",
            "100%|██████████| 29/29 [00:01<00:00, 25.07it/s]\n",
            " 82%|████████▏ | 82/100 [05:22<01:06,  3.70s/it]"
          ]
        },
        {
          "output_type": "stream",
          "name": "stdout",
          "text": [
            "------------------------------\n",
            "Training Loss EPOCH 82: 1.0988\n",
            "Training DICE EPOCH 82: 0.0345\n",
            "\n",
            "\n",
            "Validation Loss EPOCH 82: 1.1196\n",
            "Validation DICE EPOCH 82: 0.0000\n",
            "------------------------------\n"
          ]
        },
        {
          "output_type": "stream",
          "name": "stderr",
          "text": [
            "100%|██████████| 29/29 [00:02<00:00, 11.64it/s]\n",
            "100%|██████████| 29/29 [00:01<00:00, 26.22it/s]\n",
            " 83%|████████▎ | 83/100 [05:25<01:02,  3.67s/it]"
          ]
        },
        {
          "output_type": "stream",
          "name": "stdout",
          "text": [
            "------------------------------\n",
            "Training Loss EPOCH 83: 1.2034\n",
            "Training DICE EPOCH 83: 0.0345\n",
            "\n",
            "\n",
            "Validation Loss EPOCH 83: 1.1245\n",
            "Validation DICE EPOCH 83: 0.0000\n",
            "------------------------------\n"
          ]
        },
        {
          "output_type": "stream",
          "name": "stderr",
          "text": [
            "100%|██████████| 29/29 [00:02<00:00, 11.32it/s]\n",
            "100%|██████████| 29/29 [00:01<00:00, 25.22it/s]\n",
            " 84%|████████▍ | 84/100 [05:29<00:59,  3.69s/it]"
          ]
        },
        {
          "output_type": "stream",
          "name": "stdout",
          "text": [
            "------------------------------\n",
            "Training Loss EPOCH 84: 1.1749\n",
            "Training DICE EPOCH 84: 0.0000\n",
            "\n",
            "\n",
            "Validation Loss EPOCH 84: 1.1235\n",
            "Validation DICE EPOCH 84: 0.0000\n",
            "------------------------------\n"
          ]
        },
        {
          "output_type": "stream",
          "name": "stderr",
          "text": [
            "100%|██████████| 29/29 [00:02<00:00, 11.42it/s]\n",
            "100%|██████████| 29/29 [00:01<00:00, 25.76it/s]\n",
            " 85%|████████▌ | 85/100 [05:33<00:55,  3.69s/it]"
          ]
        },
        {
          "output_type": "stream",
          "name": "stdout",
          "text": [
            "------------------------------\n",
            "Training Loss EPOCH 85: 1.1407\n",
            "Training DICE EPOCH 85: 0.0000\n",
            "\n",
            "\n",
            "Validation Loss EPOCH 85: 1.1104\n",
            "Validation DICE EPOCH 85: 0.0345\n",
            "------------------------------\n"
          ]
        },
        {
          "output_type": "stream",
          "name": "stderr",
          "text": [
            "100%|██████████| 29/29 [00:02<00:00, 11.38it/s]\n",
            "100%|██████████| 29/29 [00:01<00:00, 24.33it/s]\n",
            " 86%|████████▌ | 86/100 [05:36<00:51,  3.71s/it]"
          ]
        },
        {
          "output_type": "stream",
          "name": "stdout",
          "text": [
            "------------------------------\n",
            "Training Loss EPOCH 86: 1.1627\n",
            "Training DICE EPOCH 86: 0.0345\n",
            "\n",
            "\n",
            "Validation Loss EPOCH 86: 1.0994\n",
            "Validation DICE EPOCH 86: 0.0000\n",
            "------------------------------\n"
          ]
        },
        {
          "output_type": "stream",
          "name": "stderr",
          "text": [
            "100%|██████████| 29/29 [00:02<00:00, 11.33it/s]\n",
            "100%|██████████| 29/29 [00:01<00:00, 25.13it/s]\n",
            " 87%|████████▋ | 87/100 [05:40<00:48,  3.71s/it]"
          ]
        },
        {
          "output_type": "stream",
          "name": "stdout",
          "text": [
            "------------------------------\n",
            "Training Loss EPOCH 87: 1.1171\n",
            "Training DICE EPOCH 87: 0.0345\n",
            "\n",
            "\n",
            "Validation Loss EPOCH 87: 1.1112\n",
            "Validation DICE EPOCH 87: 0.0000\n",
            "------------------------------\n"
          ]
        },
        {
          "output_type": "stream",
          "name": "stderr",
          "text": [
            "100%|██████████| 29/29 [00:02<00:00, 11.40it/s]\n",
            "100%|██████████| 29/29 [00:01<00:00, 26.83it/s]\n",
            " 88%|████████▊ | 88/100 [05:44<00:44,  3.69s/it]"
          ]
        },
        {
          "output_type": "stream",
          "name": "stdout",
          "text": [
            "------------------------------\n",
            "Training Loss EPOCH 88: 1.1642\n",
            "Training DICE EPOCH 88: 0.0000\n",
            "\n",
            "\n",
            "Validation Loss EPOCH 88: 1.1049\n",
            "Validation DICE EPOCH 88: 0.0000\n",
            "------------------------------\n"
          ]
        },
        {
          "output_type": "stream",
          "name": "stderr",
          "text": [
            "100%|██████████| 29/29 [00:02<00:00, 11.73it/s]\n",
            "100%|██████████| 29/29 [00:01<00:00, 25.11it/s]\n",
            " 89%|████████▉ | 89/100 [05:47<00:40,  3.68s/it]"
          ]
        },
        {
          "output_type": "stream",
          "name": "stdout",
          "text": [
            "------------------------------\n",
            "Training Loss EPOCH 89: 1.2464\n",
            "Training DICE EPOCH 89: 0.0000\n",
            "\n",
            "\n",
            "Validation Loss EPOCH 89: 1.0985\n",
            "Validation DICE EPOCH 89: 0.0000\n",
            "------------------------------\n"
          ]
        },
        {
          "output_type": "stream",
          "name": "stderr",
          "text": [
            "100%|██████████| 29/29 [00:02<00:00, 11.43it/s]\n",
            "100%|██████████| 29/29 [00:01<00:00, 25.93it/s]\n",
            " 90%|█████████ | 90/100 [05:51<00:36,  3.67s/it]"
          ]
        },
        {
          "output_type": "stream",
          "name": "stdout",
          "text": [
            "------------------------------\n",
            "Training Loss EPOCH 90: 1.2503\n",
            "Training DICE EPOCH 90: 0.0345\n",
            "\n",
            "\n",
            "Validation Loss EPOCH 90: 1.0979\n",
            "Validation DICE EPOCH 90: 0.0000\n",
            "------------------------------\n"
          ]
        },
        {
          "output_type": "stream",
          "name": "stderr",
          "text": [
            "100%|██████████| 29/29 [00:02<00:00, 11.36it/s]\n",
            "100%|██████████| 29/29 [00:01<00:00, 25.36it/s]\n",
            " 91%|█████████ | 91/100 [05:55<00:33,  3.69s/it]"
          ]
        },
        {
          "output_type": "stream",
          "name": "stdout",
          "text": [
            "------------------------------\n",
            "Training Loss EPOCH 91: 1.2492\n",
            "Training DICE EPOCH 91: 0.0000\n",
            "\n",
            "\n",
            "Validation Loss EPOCH 91: 1.1293\n",
            "Validation DICE EPOCH 91: 0.0000\n",
            "------------------------------\n"
          ]
        },
        {
          "output_type": "stream",
          "name": "stderr",
          "text": [
            "100%|██████████| 29/29 [00:02<00:00, 11.29it/s]\n",
            "100%|██████████| 29/29 [00:01<00:00, 25.12it/s]\n",
            " 92%|█████████▏| 92/100 [05:58<00:29,  3.70s/it]"
          ]
        },
        {
          "output_type": "stream",
          "name": "stdout",
          "text": [
            "------------------------------\n",
            "Training Loss EPOCH 92: 1.1269\n",
            "Training DICE EPOCH 92: 0.0345\n",
            "\n",
            "\n",
            "Validation Loss EPOCH 92: 1.1157\n",
            "Validation DICE EPOCH 92: 0.0000\n",
            "------------------------------\n"
          ]
        },
        {
          "output_type": "stream",
          "name": "stderr",
          "text": [
            "100%|██████████| 29/29 [00:02<00:00, 11.01it/s]\n",
            "100%|██████████| 29/29 [00:01<00:00, 25.51it/s]\n",
            " 93%|█████████▎| 93/100 [06:02<00:26,  3.73s/it]"
          ]
        },
        {
          "output_type": "stream",
          "name": "stdout",
          "text": [
            "------------------------------\n",
            "Training Loss EPOCH 93: 1.1255\n",
            "Training DICE EPOCH 93: 0.0000\n",
            "\n",
            "\n",
            "Validation Loss EPOCH 93: 1.1137\n",
            "Validation DICE EPOCH 93: 0.0345\n",
            "------------------------------\n"
          ]
        },
        {
          "output_type": "stream",
          "name": "stderr",
          "text": [
            "100%|██████████| 29/29 [00:02<00:00, 11.43it/s]\n",
            "100%|██████████| 29/29 [00:01<00:00, 26.21it/s]\n",
            " 94%|█████████▍| 94/100 [06:06<00:22,  3.71s/it]"
          ]
        },
        {
          "output_type": "stream",
          "name": "stdout",
          "text": [
            "------------------------------\n",
            "Training Loss EPOCH 94: 1.1969\n",
            "Training DICE EPOCH 94: 0.0000\n",
            "\n",
            "\n",
            "Validation Loss EPOCH 94: 1.0994\n",
            "Validation DICE EPOCH 94: 0.0000\n",
            "------------------------------\n"
          ]
        },
        {
          "output_type": "stream",
          "name": "stderr",
          "text": [
            "100%|██████████| 29/29 [00:02<00:00, 11.48it/s]\n",
            "100%|██████████| 29/29 [00:01<00:00, 25.51it/s]\n",
            " 95%|█████████▌| 95/100 [06:10<00:18,  3.70s/it]"
          ]
        },
        {
          "output_type": "stream",
          "name": "stdout",
          "text": [
            "------------------------------\n",
            "Training Loss EPOCH 95: 1.1210\n",
            "Training DICE EPOCH 95: 0.0345\n",
            "\n",
            "\n",
            "Validation Loss EPOCH 95: 1.1181\n",
            "Validation DICE EPOCH 95: 0.0000\n",
            "------------------------------\n"
          ]
        },
        {
          "output_type": "stream",
          "name": "stderr",
          "text": [
            "100%|██████████| 29/29 [00:02<00:00, 11.38it/s]\n",
            "100%|██████████| 29/29 [00:01<00:00, 25.70it/s]\n",
            " 96%|█████████▌| 96/100 [06:13<00:14,  3.70s/it]"
          ]
        },
        {
          "output_type": "stream",
          "name": "stdout",
          "text": [
            "------------------------------\n",
            "Training Loss EPOCH 96: 1.2626\n",
            "Training DICE EPOCH 96: 0.0000\n",
            "\n",
            "\n",
            "Validation Loss EPOCH 96: 1.1185\n",
            "Validation DICE EPOCH 96: 0.0345\n",
            "------------------------------\n"
          ]
        },
        {
          "output_type": "stream",
          "name": "stderr",
          "text": [
            "100%|██████████| 29/29 [00:02<00:00, 11.27it/s]\n",
            "100%|██████████| 29/29 [00:01<00:00, 24.96it/s]\n",
            " 97%|█████████▋| 97/100 [06:17<00:11,  3.71s/it]"
          ]
        },
        {
          "output_type": "stream",
          "name": "stdout",
          "text": [
            "------------------------------\n",
            "Training Loss EPOCH 97: 1.1738\n",
            "Training DICE EPOCH 97: 0.0000\n",
            "\n",
            "\n",
            "Validation Loss EPOCH 97: 1.0937\n",
            "Validation DICE EPOCH 97: 0.0000\n",
            "------------------------------\n"
          ]
        },
        {
          "output_type": "stream",
          "name": "stderr",
          "text": [
            "100%|██████████| 29/29 [00:02<00:00, 11.23it/s]\n",
            "100%|██████████| 29/29 [00:01<00:00, 25.31it/s]\n",
            " 98%|█████████▊| 98/100 [06:21<00:07,  3.72s/it]"
          ]
        },
        {
          "output_type": "stream",
          "name": "stdout",
          "text": [
            "------------------------------\n",
            "Training Loss EPOCH 98: 1.1551\n",
            "Training DICE EPOCH 98: 0.0000\n",
            "\n",
            "\n",
            "Validation Loss EPOCH 98: 1.0897\n",
            "Validation DICE EPOCH 98: 0.0000\n",
            "------------------------------\n"
          ]
        },
        {
          "output_type": "stream",
          "name": "stderr",
          "text": [
            "100%|██████████| 29/29 [00:02<00:00, 11.43it/s]\n",
            "100%|██████████| 29/29 [00:01<00:00, 25.62it/s]\n",
            " 99%|█████████▉| 99/100 [06:24<00:03,  3.71s/it]"
          ]
        },
        {
          "output_type": "stream",
          "name": "stdout",
          "text": [
            "------------------------------\n",
            "Training Loss EPOCH 99: 1.0814\n",
            "Training DICE EPOCH 99: 0.0000\n",
            "\n",
            "\n",
            "Validation Loss EPOCH 99: 1.1121\n",
            "Validation DICE EPOCH 99: 0.0000\n",
            "------------------------------\n"
          ]
        },
        {
          "output_type": "stream",
          "name": "stderr",
          "text": [
            "100%|██████████| 29/29 [00:02<00:00, 11.41it/s]\n",
            "100%|██████████| 29/29 [00:01<00:00, 25.87it/s]\n",
            "100%|██████████| 100/100 [06:28<00:00,  3.89s/it]"
          ]
        },
        {
          "output_type": "stream",
          "name": "stdout",
          "text": [
            "------------------------------\n",
            "Training Loss EPOCH 100: 1.2040\n",
            "Training DICE EPOCH 100: 0.0000\n",
            "\n",
            "\n",
            "Validation Loss EPOCH 100: 1.1223\n",
            "Validation DICE EPOCH 100: 0.0345\n",
            "------------------------------\n"
          ]
        },
        {
          "output_type": "stream",
          "name": "stderr",
          "text": [
            "\n"
          ]
        }
      ],
      "execution_count": 37
    },
    {
      "cell_type": "markdown",
      "source": [
        "## Save after training"
      ],
      "metadata": {
        "id": "8VFMTIkngmGn"
      }
    },
    {
      "cell_type": "code",
      "source": [
        "if not os.path.exists(config['save_dir']):\n",
        "    os.makedirs(config['save_dir'])"
      ],
      "metadata": {
        "trusted": true,
        "execution": {
          "iopub.status.busy": "2025-01-11T16:42:01.781627Z",
          "iopub.execute_input": "2025-01-11T16:42:01.781884Z",
          "iopub.status.idle": "2025-01-11T16:42:01.786081Z",
          "shell.execute_reply.started": "2025-01-11T16:42:01.781861Z",
          "shell.execute_reply": "2025-01-11T16:42:01.785430Z"
        },
        "id": "TOrAyTjcgmGo"
      },
      "outputs": [],
      "execution_count": 38
    },
    {
      "cell_type": "code",
      "source": [
        "torch.save(model.state_dict(), os.path.join(config['save_dir'], f\"{config['name']}_model_{now}.pth\"))"
      ],
      "metadata": {
        "trusted": true,
        "execution": {
          "iopub.status.busy": "2025-01-11T16:42:01.787458Z",
          "iopub.execute_input": "2025-01-11T16:42:01.787654Z",
          "iopub.status.idle": "2025-01-11T16:42:02.372956Z",
          "shell.execute_reply.started": "2025-01-11T16:42:01.787637Z",
          "shell.execute_reply": "2025-01-11T16:42:02.372270Z"
        },
        "id": "4QFsWxDqgmGo"
      },
      "outputs": [],
      "execution_count": 39
    },
    {
      "cell_type": "code",
      "source": [
        "save_metrics(config['save_dir'], now, train_losses, train_dcs, valid_losses, valid_dcs)"
      ],
      "metadata": {
        "trusted": true,
        "execution": {
          "iopub.status.busy": "2025-01-11T16:42:02.373985Z",
          "iopub.execute_input": "2025-01-11T16:42:02.374291Z",
          "iopub.status.idle": "2025-01-11T16:42:02.379273Z",
          "shell.execute_reply.started": "2025-01-11T16:42:02.374267Z",
          "shell.execute_reply": "2025-01-11T16:42:02.378480Z"
        },
        "id": "VOzCy-kUgmGo"
      },
      "outputs": [],
      "execution_count": 40
    },
    {
      "cell_type": "markdown",
      "source": [
        "## Visualize post-training"
      ],
      "metadata": {
        "id": "QZJhu9lbgmGo"
      }
    },
    {
      "cell_type": "code",
      "source": [
        "epochs_list = list(range(1, config['epochs'] + 1))\n",
        "\n",
        "plt.figure(figsize=(12, 5))\n",
        "plt.subplot(1, 2, 1)\n",
        "plt.plot(epochs_list, train_losses, label='Training Loss')\n",
        "plt.plot(epochs_list, valid_losses, label='Validation Loss')\n",
        "# plt.xticks(ticks=list(range(1, config['epochs'] + 1, 1)))\n",
        "plt.title('Loss over epochs')\n",
        "plt.xlabel('Epochs')\n",
        "plt.ylabel('Loss')\n",
        "plt.grid()\n",
        "plt.tight_layout()\n",
        "plt.legend()\n",
        "\n",
        "plt.subplot(1, 2, 2)\n",
        "plt.plot(epochs_list, train_dcs, label='Training DICE')\n",
        "plt.plot(epochs_list, valid_dcs, label='Validation DICE')\n",
        "# plt.xticks(ticks=list(range(1, config['epochs'] + 1, 1)))\n",
        "plt.title('DICE Coefficient over epochs')\n",
        "plt.xlabel('Epochs')\n",
        "plt.ylabel('DICE')\n",
        "plt.grid()\n",
        "plt.legend()\n",
        "plt.tight_layout()\n",
        "plt.show()"
      ],
      "metadata": {
        "trusted": true,
        "execution": {
          "iopub.status.busy": "2025-01-11T16:42:02.380044Z",
          "iopub.execute_input": "2025-01-11T16:42:02.380283Z",
          "iopub.status.idle": "2025-01-11T16:42:02.918640Z",
          "shell.execute_reply.started": "2025-01-11T16:42:02.380265Z",
          "shell.execute_reply": "2025-01-11T16:42:02.917703Z"
        },
        "id": "ryQXyENXgmGo",
        "outputId": "0800d8c2-b91d-420f-bc9a-32ed58b93cbb",
        "colab": {
          "base_uri": "https://localhost:8080/",
          "height": 507
        }
      },
      "outputs": [
        {
          "output_type": "display_data",
          "data": {
            "text/plain": [
              "<Figure size 1200x500 with 2 Axes>"
            ],
            "image/png": "[encoded data removed]"
          },
          "metadata": {}
        }
      ],
      "execution_count": 41
    }
  ]
}