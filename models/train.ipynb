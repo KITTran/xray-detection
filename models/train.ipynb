{
 "cells": [
  {
   "cell_type": "markdown",
   "metadata": {},
   "source": [
    "## Import necessary library"
   ]
  },
  {
   "cell_type": "code",
   "execution_count": null,
   "metadata": {},
   "outputs": [],
   "source": [
    "import datetime\n",
    "import os\n",
    "import sys\n",
    "\n",
    "import torch\n",
    "import torch.optim as optim\n",
    "from torch.utils.data import DataLoader\n",
    "import tqdm\n",
    "\n",
    "import matplotlib.pyplot as plt"
   ]
  },
  {
   "cell_type": "code",
   "execution_count": null,
   "metadata": {},
   "outputs": [],
   "source": [
    "sys.path.append(os.path.abspath('..'))\n",
    "from modules import utils, models, losses, augmented, metrics"
   ]
  },
  {
   "cell_type": "code",
   "execution_count": null,
   "metadata": {},
   "outputs": [],
   "source": [
    "now = datetime.datetime.now()\n",
    "now = now.strftime('%Y-%m-%d_%H-%M-%S')\n",
    "print(f\"Time of execution: {now}\")"
   ]
  },
  {
   "cell_type": "code",
   "execution_count": null,
   "metadata": {},
   "outputs": [],
   "source": [
    "CURRENT_DIR = os.path.dirname(os.path.abspath(__file__))\n",
    "PARENT_DIR = os.path.dirname(CURRENT_DIR)\n",
    "\n",
    "config = {\n",
    "        'name': \"gdxray\",\n",
    "        'data_dir': os.path.join(PARENT_DIR, \"data/gdxray\"),\n",
    "        'metadata': os.path.join(PARENT_DIR, \"metadata\"),\n",
    "        'subset': \"train\",\n",
    "        'labels': True,\n",
    "        'device': \"cuda\" if torch.cuda.is_available() else \"cpu\",\n",
    "        'image_size': (224, 224),\n",
    "        'learning_rate': 3e-4,\n",
    "        'batch_size': 8,\n",
    "        'epochs': 10,\n",
    "        'save_dir': os.path.join(PARENT_DIR, \"logs/gdxray\")\n",
    "   }"
   ]
  },
  {
   "cell_type": "markdown",
   "metadata": {},
   "source": [
    "## Load dataset"
   ]
  },
  {
   "cell_type": "code",
   "execution_count": null,
   "metadata": {},
   "outputs": [],
   "source": [
    "transform_train = augmented.albumentations_transform_train(config['image_size'])\n",
    "transform_valid = augmented.albumentations_transform_valid(config['image_size'])\n",
    "\n",
    "train_dataset = utils.GDXrayDataset(config, labels=config['labels'], transform=transform_train)\n",
    "valid_dataset = utils.GDXrayDataset(config, labels=config['labels'], transform=transform_valid)"
   ]
  },
  {
   "cell_type": "code",
   "execution_count": null,
   "metadata": {},
   "outputs": [],
   "source": [
    "if config['device'] == \"cuda\":\n",
    "    num_workers = torch.cuda.device_count() * 4"
   ]
  },
  {
   "cell_type": "code",
   "execution_count": null,
   "metadata": {},
   "outputs": [],
   "source": [
    "train_dataloader = DataLoader(dataset=train_dataset,\n",
    "                              num_workers=num_workers, pin_memory=False,\n",
    "                              batch_size=config['batch_size'],\n",
    "                              shuffle=True)\n",
    "valid_dataloader = DataLoader(dataset=valid_dataset,\n",
    "                              num_workers=num_workers, pin_memory=False,\n",
    "                              batch_size=config['batch_size'],\n",
    "                              shuffle=True)"
   ]
  },
  {
   "cell_type": "markdown",
   "metadata": {},
   "source": [
    "## Create model and opt and loss"
   ]
  },
  {
   "cell_type": "code",
   "execution_count": null,
   "metadata": {},
   "outputs": [],
   "source": [
    "output_list = [64, 128, 256, 512]\n",
    "num_parallel = 2\n",
    "num_classes = 2\n",
    "upsampling_cfg = dict(type='carafe', scale_factor=2, kernel_up=5, kernel_encoder=3)\n",
    "model = models.WResHDC_FF(num_classes, 3, output_list, num_parallel, upsample_cfg=upsampling_cfg)\n",
    "model.to(config['device'])\n",
    "\n",
    "optimizer = optim.AdamW(model.parameters(), lr=config['learning_rate'])\n",
    "criterion = losses.BinaryDiceLoss()"
   ]
  },
  {
   "cell_type": "code",
   "execution_count": null,
   "metadata": {},
   "outputs": [],
   "source": [
    "torch.cuda.empty_cache()"
   ]
  },
  {
   "cell_type": "markdown",
   "metadata": {},
   "source": [
    "## Train model"
   ]
  },
  {
   "cell_type": "code",
   "execution_count": null,
   "metadata": {},
   "outputs": [],
   "source": [
    "train_losses = []\n",
    "train_dcs = []\n",
    "valid_losses = []\n",
    "valid_dcs = []\n",
    "\n",
    "for epoch in tqdm(range(config['epochs'])):\n",
    "    model.train()\n",
    "    train_running_loss = 0.0\n",
    "    train_running_dc = 0.0\n",
    "    for idx, img_mask in enumerate(tqdm(train_dataloader, position=0, leave=True)):\n",
    "        img = img_mask['image'].to(config['device'], dtype=torch.float32)\n",
    "        mask = img_mask['mask'].to(config['device'], dtype=torch.float32)\n",
    "        y_pred = model(img)\n",
    "        optimizer.zero_grad()\n",
    "        dc = metrics.dice_coefficient(y_pred, mask)\n",
    "        loss = criterion(y_pred, mask)\n",
    "        train_running_loss += loss.item()\n",
    "        train_running_dc += dc.item()\n",
    "        loss.backward()\n",
    "        optimizer.step()\n",
    "    train_loss = train_running_loss / (idx + 1)\n",
    "    train_dc = train_running_dc / (idx + 1)\n",
    "    train_losses.append(train_loss)\n",
    "    train_dcs.append(train_dc)\n",
    "    model.eval()\n",
    "    val_running_loss = 0.0\n",
    "    val_running_dc = 0.0\n",
    "    with torch.no_grad():\n",
    "        for idx, img_mask in enumerate(tqdm(valid_dataloader, position=0, leave=True)):\n",
    "            img = img_mask['image'].to(config['device'], dtype=torch.float32)\n",
    "            mask = img_mask['mask'].to(config['device'], dtype=torch.float32)\n",
    "            y_pred = model(img)\n",
    "            loss = criterion\n",
    "            dc = metrics.dice_coefficient(y_pred, mask)\n",
    "            val_running_loss += loss.item()\n",
    "            val_running_dc += dc.item()\n",
    "        val_loss = val_running_loss / (idx + 1)\n",
    "        val_dc = val_running_dc / (idx + 1)\n",
    "    valid_losses.append(val_loss)\n",
    "    valid_dcs.append(val_dc)\n",
    "    print(\"-\" * 30)\n",
    "    print(f\"Training Loss EPOCH {epoch + 1}: {train_loss:.4f}\")\n",
    "    print(f\"Training DICE EPOCH {epoch + 1}: {train_dc:.4f}\")\n",
    "    print(\"\\n\")\n",
    "    print(f\"Validation Loss EPOCH {epoch + 1}: {val_loss:.4f}\")\n",
    "    print(f\"Validation DICE EPOCH {epoch + 1}: {val_dc:.4f}\")\n",
    "    print(\"-\" * 30)"
   ]
  },
  {
   "cell_type": "markdown",
   "metadata": {},
   "source": [
    "## Save after training"
   ]
  },
  {
   "cell_type": "code",
   "execution_count": null,
   "metadata": {},
   "outputs": [],
   "source": [
    "if not os.path.exists(config['save_dir']):\n",
    "    os.makedirs(config['save_dir'])"
   ]
  },
  {
   "cell_type": "code",
   "execution_count": null,
   "metadata": {},
   "outputs": [],
   "source": [
    "torch.save(model.state_dict(), os.path.join(config['save_dir'], f\"{config['name']}_model_{now}.pth\"))"
   ]
  },
  {
   "cell_type": "code",
   "execution_count": null,
   "metadata": {},
   "outputs": [],
   "source": [
    "utils.save_metrics(config['save_dir'], now, train_losses, train_dcs, valid_losses, valid_dcs)\n",
    "epochs_list = list(range(1, config['epochs'] + 1))"
   ]
  },
  {
   "cell_type": "markdown",
   "metadata": {},
   "source": [
    "## Visualize post-training"
   ]
  },
  {
   "cell_type": "code",
   "execution_count": null,
   "metadata": {},
   "outputs": [],
   "source": [
    "plt.figure(figsize=(12, 5))\n",
    "plt.subplot(1, 2, 1)\n",
    "plt.plot(epochs_list, train_losses, label='Training Loss')\n",
    "plt.plot(epochs_list, valid_losses, label='Validation Loss')\n",
    "plt.xticks(ticks=list(range(1, config['epochs'] + 1, 1)))\n",
    "plt.title('Loss over epochs')\n",
    "plt.xlabel('Epochs')\n",
    "plt.ylabel('Loss')\n",
    "plt.grid()\n",
    "plt.tight_layout()\n",
    "plt.legend()\n",
    "\n",
    "plt.subplot(1, 2, 2)\n",
    "plt.plot(epochs_list, train_dcs, label='Training DICE')\n",
    "plt.plot(epochs_list, valid_dcs, label='Validation DICE')\n",
    "plt.xticks(ticks=list(range(1, config['epochs'] + 1, 1)))\n",
    "plt.title('DICE Coefficient over epochs')\n",
    "plt.xlabel('Epochs')\n",
    "plt.ylabel('DICE')\n",
    "plt.grid()\n",
    "plt.legend()\n",
    "plt.tight_layout()\n",
    "plt.show()"
   ]
  }
 ],
 "metadata": {
  "kernelspec": {
   "display_name": "torch_cpu",
   "language": "python",
   "name": "python3"
  },
  "language_info": {
   "codemirror_mode": {
    "name": "ipython",
    "version": 3
   },
   "file_extension": ".py",
   "mimetype": "text/x-python",
   "name": "python",
   "nbconvert_exporter": "python",
   "pygments_lexer": "ipython3",
   "version": "3.11.11"
  }
 },
 "nbformat": 4,
 "nbformat_minor": 2
}
